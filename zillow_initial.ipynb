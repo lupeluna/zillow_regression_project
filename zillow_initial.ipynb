{
 "cells": [
  {
   "cell_type": "code",
   "execution_count": 1,
   "metadata": {},
   "outputs": [],
   "source": [
    "import pandas as pd\n",
    "import numpy as np\n",
    "import prepare\n",
    "import seaborn as sns\n",
    "import matplotlib.pyplot as plt\n",
    "from sklearn.metrics import explained_variance_score\n",
    "import scipy.stats as stats\n",
    "from sklearn.model_selection import train_test_split\n",
    "\n",
    "\n",
    "# modeling methods\n",
    "from sklearn.preprocessing import MinMaxScaler, RobustScaler, StandardScaler\n",
    "from sklearn.metrics import mean_squared_error\n",
    "from sklearn.linear_model import LinearRegression, LassoLars, TweedieRegressor\n",
    "from sklearn.preprocessing import PolynomialFeatures\n",
    "from sklearn.feature_selection import SelectKBest, f_regression, RFE\n",
    "\n",
    "import warnings\n",
    "warnings.filterwarnings(\"ignore\")"
   ]
  },
  {
   "cell_type": "code",
   "execution_count": 2,
   "metadata": {},
   "outputs": [],
   "source": [
    "from acquire import get_zillow_data"
   ]
  },
  {
   "cell_type": "code",
   "execution_count": 3,
   "metadata": {},
   "outputs": [
    {
     "data": {
      "text/html": [
       "<div>\n",
       "<style scoped>\n",
       "    .dataframe tbody tr th:only-of-type {\n",
       "        vertical-align: middle;\n",
       "    }\n",
       "\n",
       "    .dataframe tbody tr th {\n",
       "        vertical-align: top;\n",
       "    }\n",
       "\n",
       "    .dataframe thead th {\n",
       "        text-align: right;\n",
       "    }\n",
       "</style>\n",
       "<table border=\"1\" class=\"dataframe\">\n",
       "  <thead>\n",
       "    <tr style=\"text-align: right;\">\n",
       "      <th></th>\n",
       "      <th>parcelid</th>\n",
       "      <th>bathroomcnt</th>\n",
       "      <th>bedroomcnt</th>\n",
       "      <th>calculatedfinishedsquarefeet</th>\n",
       "      <th>fips</th>\n",
       "      <th>yearbuilt</th>\n",
       "      <th>taxvaluedollarcnt</th>\n",
       "      <th>taxamount</th>\n",
       "      <th>propertylandusetypeid</th>\n",
       "    </tr>\n",
       "  </thead>\n",
       "  <tbody>\n",
       "    <tr>\n",
       "      <th>0</th>\n",
       "      <td>11721753</td>\n",
       "      <td>2.0</td>\n",
       "      <td>3.0</td>\n",
       "      <td>1316.0</td>\n",
       "      <td>6037.0</td>\n",
       "      <td>1923.0</td>\n",
       "      <td>205123.0</td>\n",
       "      <td>2627.48</td>\n",
       "      <td>261.0</td>\n",
       "    </tr>\n",
       "    <tr>\n",
       "      <th>1</th>\n",
       "      <td>11289917</td>\n",
       "      <td>2.0</td>\n",
       "      <td>3.0</td>\n",
       "      <td>1458.0</td>\n",
       "      <td>6037.0</td>\n",
       "      <td>1970.0</td>\n",
       "      <td>136104.0</td>\n",
       "      <td>2319.90</td>\n",
       "      <td>261.0</td>\n",
       "    </tr>\n",
       "    <tr>\n",
       "      <th>2</th>\n",
       "      <td>11705026</td>\n",
       "      <td>1.0</td>\n",
       "      <td>2.0</td>\n",
       "      <td>1421.0</td>\n",
       "      <td>6037.0</td>\n",
       "      <td>1911.0</td>\n",
       "      <td>35606.0</td>\n",
       "      <td>543.69</td>\n",
       "      <td>261.0</td>\n",
       "    </tr>\n",
       "    <tr>\n",
       "      <th>3</th>\n",
       "      <td>14269464</td>\n",
       "      <td>3.0</td>\n",
       "      <td>4.0</td>\n",
       "      <td>2541.0</td>\n",
       "      <td>6059.0</td>\n",
       "      <td>2003.0</td>\n",
       "      <td>880456.0</td>\n",
       "      <td>9819.72</td>\n",
       "      <td>261.0</td>\n",
       "    </tr>\n",
       "    <tr>\n",
       "      <th>4</th>\n",
       "      <td>11446756</td>\n",
       "      <td>2.0</td>\n",
       "      <td>3.0</td>\n",
       "      <td>1491.0</td>\n",
       "      <td>6037.0</td>\n",
       "      <td>1955.0</td>\n",
       "      <td>107110.0</td>\n",
       "      <td>1399.27</td>\n",
       "      <td>261.0</td>\n",
       "    </tr>\n",
       "  </tbody>\n",
       "</table>\n",
       "</div>"
      ],
      "text/plain": [
       "   parcelid  bathroomcnt  bedroomcnt  calculatedfinishedsquarefeet    fips  \\\n",
       "0  11721753          2.0         3.0                        1316.0  6037.0   \n",
       "1  11289917          2.0         3.0                        1458.0  6037.0   \n",
       "2  11705026          1.0         2.0                        1421.0  6037.0   \n",
       "3  14269464          3.0         4.0                        2541.0  6059.0   \n",
       "4  11446756          2.0         3.0                        1491.0  6037.0   \n",
       "\n",
       "   yearbuilt  taxvaluedollarcnt  taxamount  propertylandusetypeid  \n",
       "0     1923.0           205123.0    2627.48                  261.0  \n",
       "1     1970.0           136104.0    2319.90                  261.0  \n",
       "2     1911.0            35606.0     543.69                  261.0  \n",
       "3     2003.0           880456.0    9819.72                  261.0  \n",
       "4     1955.0           107110.0    1399.27                  261.0  "
      ]
     },
     "execution_count": 3,
     "metadata": {},
     "output_type": "execute_result"
    }
   ],
   "source": [
    "# acquire the zillow dataset that we are using\n",
    "df = get_zillow_data()\n",
    "df.head()"
   ]
  },
  {
   "cell_type": "code",
   "execution_count": 4,
   "metadata": {},
   "outputs": [
    {
     "data": {
      "text/plain": [
       "(28186, 9)"
      ]
     },
     "execution_count": 4,
     "metadata": {},
     "output_type": "execute_result"
    }
   ],
   "source": [
    "df.shape"
   ]
  },
  {
   "cell_type": "code",
   "execution_count": 5,
   "metadata": {},
   "outputs": [
    {
     "name": "stdout",
     "output_type": "stream",
     "text": [
      "<class 'pandas.core.frame.DataFrame'>\n",
      "Int64Index: 28186 entries, 0 to 28185\n",
      "Data columns (total 9 columns):\n",
      " #   Column                        Non-Null Count  Dtype  \n",
      "---  ------                        --------------  -----  \n",
      " 0   parcelid                      28186 non-null  int64  \n",
      " 1   bathroomcnt                   28186 non-null  float64\n",
      " 2   bedroomcnt                    28186 non-null  float64\n",
      " 3   calculatedfinishedsquarefeet  28118 non-null  float64\n",
      " 4   fips                          28186 non-null  float64\n",
      " 5   yearbuilt                     28094 non-null  float64\n",
      " 6   taxvaluedollarcnt             28185 non-null  float64\n",
      " 7   taxamount                     28185 non-null  float64\n",
      " 8   propertylandusetypeid         28186 non-null  float64\n",
      "dtypes: float64(8), int64(1)\n",
      "memory usage: 2.2 MB\n"
     ]
    }
   ],
   "source": [
    "df.info()"
   ]
  },
  {
   "cell_type": "markdown",
   "metadata": {},
   "source": [
    "## PREPARE"
   ]
  },
  {
   "cell_type": "code",
   "execution_count": 6,
   "metadata": {},
   "outputs": [
    {
     "data": {
      "text/plain": [
       "parcelid                         0\n",
       "bathroomcnt                      0\n",
       "bedroomcnt                       0\n",
       "calculatedfinishedsquarefeet    68\n",
       "fips                             0\n",
       "yearbuilt                       92\n",
       "taxvaluedollarcnt                1\n",
       "taxamount                        1\n",
       "propertylandusetypeid            0\n",
       "dtype: int64"
      ]
     },
     "execution_count": 6,
     "metadata": {},
     "output_type": "execute_result"
    }
   ],
   "source": [
    "#check for null values\n",
    "df.isnull().sum()"
   ]
  },
  {
   "cell_type": "code",
   "execution_count": 7,
   "metadata": {},
   "outputs": [],
   "source": [
    "#drop nulls\n",
    "df = df.dropna()"
   ]
  },
  {
   "cell_type": "code",
   "execution_count": 8,
   "metadata": {},
   "outputs": [
    {
     "data": {
      "text/plain": [
       "parcelid                        0\n",
       "bathroomcnt                     0\n",
       "bedroomcnt                      0\n",
       "calculatedfinishedsquarefeet    0\n",
       "fips                            0\n",
       "yearbuilt                       0\n",
       "taxvaluedollarcnt               0\n",
       "taxamount                       0\n",
       "propertylandusetypeid           0\n",
       "dtype: int64"
      ]
     },
     "execution_count": 8,
     "metadata": {},
     "output_type": "execute_result"
    }
   ],
   "source": [
    "#verify nulls were dropped\n",
    "df.isnull().sum()"
   ]
  },
  {
   "cell_type": "code",
   "execution_count": 9,
   "metadata": {},
   "outputs": [
    {
     "data": {
      "text/plain": [
       "False    28065\n",
       "True        24\n",
       "Name: parcelid, dtype: int64"
      ]
     },
     "execution_count": 9,
     "metadata": {},
     "output_type": "execute_result"
    }
   ],
   "source": [
    "df['parcelid'].duplicated().value_counts()"
   ]
  },
  {
   "cell_type": "code",
   "execution_count": 10,
   "metadata": {},
   "outputs": [],
   "source": [
    "df.drop_duplicates(subset = ['parcelid'], inplace=True)"
   ]
  },
  {
   "cell_type": "code",
   "execution_count": 11,
   "metadata": {},
   "outputs": [
    {
     "data": {
      "text/plain": [
       "False    28065\n",
       "Name: parcelid, dtype: int64"
      ]
     },
     "execution_count": 11,
     "metadata": {},
     "output_type": "execute_result"
    }
   ],
   "source": [
    "df['parcelid'].duplicated().value_counts()"
   ]
  },
  {
   "cell_type": "code",
   "execution_count": null,
   "metadata": {},
   "outputs": [],
   "source": []
  },
  {
   "cell_type": "code",
   "execution_count": 12,
   "metadata": {},
   "outputs": [
    {
     "data": {
      "image/png": "[encoded data removed]",
      "text/plain": [
       "<Figure size 1152x216 with 3 Axes>"
      ]
     },
     "metadata": {
      "needs_background": "light"
     },
     "output_type": "display_data"
    }
   ],
   "source": [
    "# Plot the distributions\n",
    "plt.figure(figsize=(16, 3))\n",
    "\n",
    "# List of columns\n",
    "cols = ['calculatedfinishedsquarefeet', 'bedroomcnt', 'bathroomcnt']\n",
    "\n",
    "for i, col in enumerate(cols):\n",
    "\n",
    "    # i starts at 0, but plot nos should start at 1\n",
    "    plot_number = i + 1 \n",
    "\n",
    "    # Create subplot.\n",
    "    plt.subplot(1,4, plot_number)\n",
    "\n",
    "    # Title with column name.\n",
    "    plt.title(col)\n",
    "\n",
    "    # Display histogram for column.\n",
    "    df[col].hist(bins=5)\n",
    "\n",
    "    # Hide gridlines.\n",
    "    plt.grid(False)"
   ]
  },
  {
   "cell_type": "code",
   "execution_count": null,
   "metadata": {},
   "outputs": [],
   "source": []
  },
  {
   "cell_type": "markdown",
   "metadata": {},
   "source": [
    "#### You will want to do some data validation or QA (quality assurance) to be sure the data you gather is what you think it is.\n",
    "\n"
   ]
  },
  {
   "cell_type": "code",
   "execution_count": 13,
   "metadata": {},
   "outputs": [
    {
     "data": {
      "text/html": [
       "<div>\n",
       "<style scoped>\n",
       "    .dataframe tbody tr th:only-of-type {\n",
       "        vertical-align: middle;\n",
       "    }\n",
       "\n",
       "    .dataframe tbody tr th {\n",
       "        vertical-align: top;\n",
       "    }\n",
       "\n",
       "    .dataframe thead th {\n",
       "        text-align: right;\n",
       "    }\n",
       "</style>\n",
       "<table border=\"1\" class=\"dataframe\">\n",
       "  <thead>\n",
       "    <tr style=\"text-align: right;\">\n",
       "      <th></th>\n",
       "      <th>parcelid</th>\n",
       "      <th>bathroomcnt</th>\n",
       "      <th>bedroomcnt</th>\n",
       "      <th>calculatedfinishedsquarefeet</th>\n",
       "      <th>fips</th>\n",
       "      <th>yearbuilt</th>\n",
       "      <th>taxvaluedollarcnt</th>\n",
       "      <th>taxamount</th>\n",
       "      <th>propertylandusetypeid</th>\n",
       "    </tr>\n",
       "  </thead>\n",
       "  <tbody>\n",
       "    <tr>\n",
       "      <th>0</th>\n",
       "      <td>11721753</td>\n",
       "      <td>2.0</td>\n",
       "      <td>3.0</td>\n",
       "      <td>1316.0</td>\n",
       "      <td>6037.0</td>\n",
       "      <td>1923.0</td>\n",
       "      <td>205123.0</td>\n",
       "      <td>2627.48</td>\n",
       "      <td>261.0</td>\n",
       "    </tr>\n",
       "    <tr>\n",
       "      <th>1</th>\n",
       "      <td>11289917</td>\n",
       "      <td>2.0</td>\n",
       "      <td>3.0</td>\n",
       "      <td>1458.0</td>\n",
       "      <td>6037.0</td>\n",
       "      <td>1970.0</td>\n",
       "      <td>136104.0</td>\n",
       "      <td>2319.90</td>\n",
       "      <td>261.0</td>\n",
       "    </tr>\n",
       "    <tr>\n",
       "      <th>2</th>\n",
       "      <td>11705026</td>\n",
       "      <td>1.0</td>\n",
       "      <td>2.0</td>\n",
       "      <td>1421.0</td>\n",
       "      <td>6037.0</td>\n",
       "      <td>1911.0</td>\n",
       "      <td>35606.0</td>\n",
       "      <td>543.69</td>\n",
       "      <td>261.0</td>\n",
       "    </tr>\n",
       "    <tr>\n",
       "      <th>3</th>\n",
       "      <td>14269464</td>\n",
       "      <td>3.0</td>\n",
       "      <td>4.0</td>\n",
       "      <td>2541.0</td>\n",
       "      <td>6059.0</td>\n",
       "      <td>2003.0</td>\n",
       "      <td>880456.0</td>\n",
       "      <td>9819.72</td>\n",
       "      <td>261.0</td>\n",
       "    </tr>\n",
       "    <tr>\n",
       "      <th>4</th>\n",
       "      <td>11446756</td>\n",
       "      <td>2.0</td>\n",
       "      <td>3.0</td>\n",
       "      <td>1491.0</td>\n",
       "      <td>6037.0</td>\n",
       "      <td>1955.0</td>\n",
       "      <td>107110.0</td>\n",
       "      <td>1399.27</td>\n",
       "      <td>261.0</td>\n",
       "    </tr>\n",
       "  </tbody>\n",
       "</table>\n",
       "</div>"
      ],
      "text/plain": [
       "   parcelid  bathroomcnt  bedroomcnt  calculatedfinishedsquarefeet    fips  \\\n",
       "0  11721753          2.0         3.0                        1316.0  6037.0   \n",
       "1  11289917          2.0         3.0                        1458.0  6037.0   \n",
       "2  11705026          1.0         2.0                        1421.0  6037.0   \n",
       "3  14269464          3.0         4.0                        2541.0  6059.0   \n",
       "4  11446756          2.0         3.0                        1491.0  6037.0   \n",
       "\n",
       "   yearbuilt  taxvaluedollarcnt  taxamount  propertylandusetypeid  \n",
       "0     1923.0           205123.0    2627.48                  261.0  \n",
       "1     1970.0           136104.0    2319.90                  261.0  \n",
       "2     1911.0            35606.0     543.69                  261.0  \n",
       "3     2003.0           880456.0    9819.72                  261.0  \n",
       "4     1955.0           107110.0    1399.27                  261.0  "
      ]
     },
     "execution_count": 13,
     "metadata": {},
     "output_type": "execute_result"
    }
   ],
   "source": [
    "df.head()"
   ]
  },
  {
   "cell_type": "code",
   "execution_count": 14,
   "metadata": {},
   "outputs": [],
   "source": [
    "df.rename(columns={'bathroomcnt': 'bath', \n",
    "                     'bedroomcnt': 'bed',\n",
    "                     'calculatedfinishedsquarefeet': 'sqrft',\n",
    "                     'fips': 'county',\n",
    "                     'taxvaluedollarcnt': 'taxval',\n",
    "                     'taxamount': 'taxamt'}, inplace=True\n",
    "            )"
   ]
  },
  {
   "cell_type": "code",
   "execution_count": 15,
   "metadata": {},
   "outputs": [
    {
     "data": {
      "text/html": [
       "<div>\n",
       "<style scoped>\n",
       "    .dataframe tbody tr th:only-of-type {\n",
       "        vertical-align: middle;\n",
       "    }\n",
       "\n",
       "    .dataframe tbody tr th {\n",
       "        vertical-align: top;\n",
       "    }\n",
       "\n",
       "    .dataframe thead th {\n",
       "        text-align: right;\n",
       "    }\n",
       "</style>\n",
       "<table border=\"1\" class=\"dataframe\">\n",
       "  <thead>\n",
       "    <tr style=\"text-align: right;\">\n",
       "      <th></th>\n",
       "      <th>parcelid</th>\n",
       "      <th>bath</th>\n",
       "      <th>bed</th>\n",
       "      <th>sqrft</th>\n",
       "      <th>county</th>\n",
       "      <th>yearbuilt</th>\n",
       "      <th>taxval</th>\n",
       "      <th>taxamt</th>\n",
       "      <th>propertylandusetypeid</th>\n",
       "    </tr>\n",
       "  </thead>\n",
       "  <tbody>\n",
       "    <tr>\n",
       "      <th>0</th>\n",
       "      <td>11721753</td>\n",
       "      <td>2.0</td>\n",
       "      <td>3.0</td>\n",
       "      <td>1316.0</td>\n",
       "      <td>6037.0</td>\n",
       "      <td>1923.0</td>\n",
       "      <td>205123.0</td>\n",
       "      <td>2627.48</td>\n",
       "      <td>261.0</td>\n",
       "    </tr>\n",
       "    <tr>\n",
       "      <th>1</th>\n",
       "      <td>11289917</td>\n",
       "      <td>2.0</td>\n",
       "      <td>3.0</td>\n",
       "      <td>1458.0</td>\n",
       "      <td>6037.0</td>\n",
       "      <td>1970.0</td>\n",
       "      <td>136104.0</td>\n",
       "      <td>2319.90</td>\n",
       "      <td>261.0</td>\n",
       "    </tr>\n",
       "    <tr>\n",
       "      <th>2</th>\n",
       "      <td>11705026</td>\n",
       "      <td>1.0</td>\n",
       "      <td>2.0</td>\n",
       "      <td>1421.0</td>\n",
       "      <td>6037.0</td>\n",
       "      <td>1911.0</td>\n",
       "      <td>35606.0</td>\n",
       "      <td>543.69</td>\n",
       "      <td>261.0</td>\n",
       "    </tr>\n",
       "  </tbody>\n",
       "</table>\n",
       "</div>"
      ],
      "text/plain": [
       "   parcelid  bath  bed   sqrft  county  yearbuilt    taxval   taxamt  \\\n",
       "0  11721753   2.0  3.0  1316.0  6037.0     1923.0  205123.0  2627.48   \n",
       "1  11289917   2.0  3.0  1458.0  6037.0     1970.0  136104.0  2319.90   \n",
       "2  11705026   1.0  2.0  1421.0  6037.0     1911.0   35606.0   543.69   \n",
       "\n",
       "   propertylandusetypeid  \n",
       "0                  261.0  \n",
       "1                  261.0  \n",
       "2                  261.0  "
      ]
     },
     "execution_count": 15,
     "metadata": {},
     "output_type": "execute_result"
    }
   ],
   "source": [
    "df.head(3)"
   ]
  },
  {
   "cell_type": "code",
   "execution_count": 16,
   "metadata": {},
   "outputs": [
    {
     "data": {
      "text/plain": [
       "261.0    28026\n",
       "263.0       28\n",
       "260.0        8\n",
       "264.0        3\n",
       "Name: propertylandusetypeid, dtype: int64"
      ]
     },
     "execution_count": 16,
     "metadata": {},
     "output_type": "execute_result"
    }
   ],
   "source": [
    "df['propertylandusetypeid'].value_counts()"
   ]
  },
  {
   "cell_type": "code",
   "execution_count": 17,
   "metadata": {},
   "outputs": [],
   "source": [
    "## we would use this if we are going to use minmaxscaler\n",
    "## prepare.outlier_bound_calculation(df, bathroomcnt)"
   ]
  },
  {
   "cell_type": "code",
   "execution_count": 18,
   "metadata": {},
   "outputs": [
    {
     "name": "stdout",
     "output_type": "stream",
     "text": [
      "<class 'pandas.core.frame.DataFrame'>\n",
      "Int64Index: 28065 entries, 0 to 28184\n",
      "Data columns (total 9 columns):\n",
      " #   Column                 Non-Null Count  Dtype  \n",
      "---  ------                 --------------  -----  \n",
      " 0   parcelid               28065 non-null  int64  \n",
      " 1   bath                   28065 non-null  float64\n",
      " 2   bed                    28065 non-null  float64\n",
      " 3   sqrft                  28065 non-null  float64\n",
      " 4   county                 28065 non-null  float64\n",
      " 5   yearbuilt              28065 non-null  float64\n",
      " 6   taxval                 28065 non-null  float64\n",
      " 7   taxamt                 28065 non-null  float64\n",
      " 8   propertylandusetypeid  28065 non-null  float64\n",
      "dtypes: float64(8), int64(1)\n",
      "memory usage: 2.1 MB\n"
     ]
    }
   ],
   "source": [
    "df.info()"
   ]
  },
  {
   "cell_type": "code",
   "execution_count": 118,
   "metadata": {},
   "outputs": [
    {
     "ename": "NameError",
     "evalue": "name 'explore' is not defined",
     "output_type": "error",
     "traceback": [
      "\u001b[0;31m---------------------------------------------------------------------------\u001b[0m",
      "\u001b[0;31mNameError\u001b[0m                                 Traceback (most recent call last)",
      "\u001b[0;32m<ipython-input-118-bc8643aad401>\u001b[0m in \u001b[0;36m<module>\u001b[0;34m\u001b[0m\n\u001b[0;32m----> 1\u001b[0;31m \u001b[0mexplore\u001b[0m\u001b[0;34m.\u001b[0m\u001b[0mcorr_map\u001b[0m\u001b[0;34m(\u001b[0m\u001b[0mtrain\u001b[0m\u001b[0;34m)\u001b[0m\u001b[0;34m\u001b[0m\u001b[0;34m\u001b[0m\u001b[0m\n\u001b[0m",
      "\u001b[0;31mNameError\u001b[0m: name 'explore' is not defined"
     ]
    }
   ],
   "source": [
    "explore.corr_map(train)"
   ]
  },
  {
   "cell_type": "code",
   "execution_count": 19,
   "metadata": {},
   "outputs": [],
   "source": [
    "def outlier_bound_calculation(df, variable):\n",
    "    '''\n",
    "    calcualtes the lower and upper bound to locate outliers in variables\n",
    "    '''\n",
    "    quartile1, quartile3 = np.percentile(df[variable], [25,75])\n",
    "    IQR_value = quartile3 - quartile1\n",
    "    lower_bound = quartile1 - (1.5 * IQR_value)\n",
    "    upper_bound = quartile3 + (1.5 * IQR_value)\n",
    "    '''\n",
    "    returns the lowerbound and upperbound values\n",
    "    '''\n",
    "    return print(f'For {variable} the lower bound is {lower_bound} and  upper bound is {upper_bound}')"
   ]
  },
  {
   "cell_type": "code",
   "execution_count": 20,
   "metadata": {},
   "outputs": [
    {
     "name": "stdout",
     "output_type": "stream",
     "text": [
      "For bath the lower bound is 0.5 and  upper bound is 4.5\n"
     ]
    }
   ],
   "source": [
    "outlier_bound_calculation(df, 'bath')"
   ]
  },
  {
   "cell_type": "code",
   "execution_count": 21,
   "metadata": {},
   "outputs": [],
   "source": [
    "df= df[df.bath > 0.5]\n",
    "df= df[df.bath < 4.5]"
   ]
  },
  {
   "cell_type": "code",
   "execution_count": 22,
   "metadata": {},
   "outputs": [
    {
     "name": "stdout",
     "output_type": "stream",
     "text": [
      "For bed the lower bound is 1.5 and  upper bound is 5.5\n"
     ]
    }
   ],
   "source": [
    "outlier_bound_calculation(df, 'bed')"
   ]
  },
  {
   "cell_type": "code",
   "execution_count": 23,
   "metadata": {},
   "outputs": [],
   "source": [
    "df= df[df.bed > 1.5]\n",
    "df= df[df.bed < 5.5]"
   ]
  },
  {
   "cell_type": "code",
   "execution_count": 24,
   "metadata": {},
   "outputs": [
    {
     "name": "stdout",
     "output_type": "stream",
     "text": [
      "For sqrft the lower bound is -118.0 and  upper bound is 3586.0\n"
     ]
    }
   ],
   "source": [
    "outlier_bound_calculation(df, 'sqrft')"
   ]
  },
  {
   "cell_type": "code",
   "execution_count": 25,
   "metadata": {},
   "outputs": [],
   "source": [
    "df= df[df.sqrft > -118.0]\n",
    "df= df[df.sqrft < 3586.0]"
   ]
  },
  {
   "cell_type": "code",
   "execution_count": 26,
   "metadata": {},
   "outputs": [
    {
     "data": {
      "image/png": "[encoded data removed]",
      "text/plain": [
       "<Figure size 1152x216 with 3 Axes>"
      ]
     },
     "metadata": {
      "needs_background": "light"
     },
     "output_type": "display_data"
    }
   ],
   "source": [
    "# Plot the distributions\n",
    "plt.figure(figsize=(16, 3))\n",
    "\n",
    "# List of columns\n",
    "cols = ['sqrft', 'bed', 'bath']\n",
    "\n",
    "for i, col in enumerate(cols):\n",
    "\n",
    "    # i starts at 0, but plot nos should start at 1\n",
    "    plot_number = i + 1 \n",
    "\n",
    "    # Create subplot.\n",
    "    plt.subplot(1,4, plot_number)\n",
    "\n",
    "    # Title with column name.\n",
    "    plt.title(col)\n",
    "\n",
    "    # Display histogram for column.\n",
    "    df[col].hist(bins=5)\n",
    "\n",
    "    # Hide gridlines.\n",
    "    plt.grid(False)"
   ]
  },
  {
   "cell_type": "code",
   "execution_count": 27,
   "metadata": {},
   "outputs": [],
   "source": [
    "# Scale everything else through MinMax"
   ]
  },
  {
   "cell_type": "code",
   "execution_count": 28,
   "metadata": {},
   "outputs": [
    {
     "data": {
      "text/html": [
       "<div>\n",
       "<style scoped>\n",
       "    .dataframe tbody tr th:only-of-type {\n",
       "        vertical-align: middle;\n",
       "    }\n",
       "\n",
       "    .dataframe tbody tr th {\n",
       "        vertical-align: top;\n",
       "    }\n",
       "\n",
       "    .dataframe thead th {\n",
       "        text-align: right;\n",
       "    }\n",
       "</style>\n",
       "<table border=\"1\" class=\"dataframe\">\n",
       "  <thead>\n",
       "    <tr style=\"text-align: right;\">\n",
       "      <th></th>\n",
       "      <th>parcelid</th>\n",
       "      <th>bath</th>\n",
       "      <th>bed</th>\n",
       "      <th>sqrft</th>\n",
       "      <th>county</th>\n",
       "      <th>yearbuilt</th>\n",
       "      <th>taxval</th>\n",
       "      <th>taxamt</th>\n",
       "      <th>propertylandusetypeid</th>\n",
       "    </tr>\n",
       "  </thead>\n",
       "  <tbody>\n",
       "    <tr>\n",
       "      <th>0</th>\n",
       "      <td>11721753</td>\n",
       "      <td>2.0</td>\n",
       "      <td>3.0</td>\n",
       "      <td>1316.0</td>\n",
       "      <td>6037.0</td>\n",
       "      <td>1923.0</td>\n",
       "      <td>205123.0</td>\n",
       "      <td>2627.48</td>\n",
       "      <td>261.0</td>\n",
       "    </tr>\n",
       "    <tr>\n",
       "      <th>1</th>\n",
       "      <td>11289917</td>\n",
       "      <td>2.0</td>\n",
       "      <td>3.0</td>\n",
       "      <td>1458.0</td>\n",
       "      <td>6037.0</td>\n",
       "      <td>1970.0</td>\n",
       "      <td>136104.0</td>\n",
       "      <td>2319.90</td>\n",
       "      <td>261.0</td>\n",
       "    </tr>\n",
       "    <tr>\n",
       "      <th>2</th>\n",
       "      <td>11705026</td>\n",
       "      <td>1.0</td>\n",
       "      <td>2.0</td>\n",
       "      <td>1421.0</td>\n",
       "      <td>6037.0</td>\n",
       "      <td>1911.0</td>\n",
       "      <td>35606.0</td>\n",
       "      <td>543.69</td>\n",
       "      <td>261.0</td>\n",
       "    </tr>\n",
       "  </tbody>\n",
       "</table>\n",
       "</div>"
      ],
      "text/plain": [
       "   parcelid  bath  bed   sqrft  county  yearbuilt    taxval   taxamt  \\\n",
       "0  11721753   2.0  3.0  1316.0  6037.0     1923.0  205123.0  2627.48   \n",
       "1  11289917   2.0  3.0  1458.0  6037.0     1970.0  136104.0  2319.90   \n",
       "2  11705026   1.0  2.0  1421.0  6037.0     1911.0   35606.0   543.69   \n",
       "\n",
       "   propertylandusetypeid  \n",
       "0                  261.0  \n",
       "1                  261.0  \n",
       "2                  261.0  "
      ]
     },
     "execution_count": 28,
     "metadata": {},
     "output_type": "execute_result"
    }
   ],
   "source": [
    "df.head(3)"
   ]
  },
  {
   "cell_type": "code",
   "execution_count": 29,
   "metadata": {},
   "outputs": [],
   "source": [
    "def split_continuous(df):\n",
    "    '''\n",
    "    Takes in a df\n",
    "    Returns train, validate, and test DataFrames\n",
    "    '''\n",
    "    # Create train_validate and test datasets\n",
    "    train_validate, test = train_test_split(df, \n",
    "                                        test_size=.2, \n",
    "                                        random_state=123)\n",
    "    # Create train and validate datsets\n",
    "    train, validate = train_test_split(train_validate, \n",
    "                                   test_size=.3, \n",
    "                                   random_state=123)\n",
    "    return train, validate, test"
   ]
  },
  {
   "cell_type": "code",
   "execution_count": 30,
   "metadata": {},
   "outputs": [],
   "source": [
    "# split the data in train, validate and test\n",
    "train, test = train_test_split(df, test_size = 0.2, random_state = 1349)\n",
    "train, validate = train_test_split(train, test_size = 0.25, random_state = 1349)"
   ]
  },
  {
   "cell_type": "code",
   "execution_count": 31,
   "metadata": {},
   "outputs": [
    {
     "data": {
      "text/plain": [
       "((15388, 9), (5130, 9), (5130, 9))"
      ]
     },
     "execution_count": 31,
     "metadata": {},
     "output_type": "execute_result"
    }
   ],
   "source": [
    "#check the shape\n",
    "train.shape, validate.shape, test.shape"
   ]
  },
  {
   "cell_type": "code",
   "execution_count": 32,
   "metadata": {},
   "outputs": [
    {
     "data": {
      "text/html": [
       "<div>\n",
       "<style scoped>\n",
       "    .dataframe tbody tr th:only-of-type {\n",
       "        vertical-align: middle;\n",
       "    }\n",
       "\n",
       "    .dataframe tbody tr th {\n",
       "        vertical-align: top;\n",
       "    }\n",
       "\n",
       "    .dataframe thead th {\n",
       "        text-align: right;\n",
       "    }\n",
       "</style>\n",
       "<table border=\"1\" class=\"dataframe\">\n",
       "  <thead>\n",
       "    <tr style=\"text-align: right;\">\n",
       "      <th></th>\n",
       "      <th>parcelid</th>\n",
       "      <th>bath</th>\n",
       "      <th>bed</th>\n",
       "      <th>sqrft</th>\n",
       "      <th>county</th>\n",
       "      <th>yearbuilt</th>\n",
       "      <th>taxval</th>\n",
       "      <th>taxamt</th>\n",
       "      <th>propertylandusetypeid</th>\n",
       "    </tr>\n",
       "  </thead>\n",
       "  <tbody>\n",
       "    <tr>\n",
       "      <th>5959</th>\n",
       "      <td>11324084</td>\n",
       "      <td>3.0</td>\n",
       "      <td>3.0</td>\n",
       "      <td>2544.0</td>\n",
       "      <td>6037.0</td>\n",
       "      <td>2005.0</td>\n",
       "      <td>228849.0</td>\n",
       "      <td>5519.18</td>\n",
       "      <td>261.0</td>\n",
       "    </tr>\n",
       "    <tr>\n",
       "      <th>21006</th>\n",
       "      <td>12797236</td>\n",
       "      <td>1.0</td>\n",
       "      <td>3.0</td>\n",
       "      <td>1176.0</td>\n",
       "      <td>6037.0</td>\n",
       "      <td>1952.0</td>\n",
       "      <td>215183.0</td>\n",
       "      <td>2818.59</td>\n",
       "      <td>261.0</td>\n",
       "    </tr>\n",
       "    <tr>\n",
       "      <th>14071</th>\n",
       "      <td>12319787</td>\n",
       "      <td>2.0</td>\n",
       "      <td>3.0</td>\n",
       "      <td>1690.0</td>\n",
       "      <td>6037.0</td>\n",
       "      <td>1975.0</td>\n",
       "      <td>100911.0</td>\n",
       "      <td>1426.08</td>\n",
       "      <td>261.0</td>\n",
       "    </tr>\n",
       "    <tr>\n",
       "      <th>23145</th>\n",
       "      <td>11682794</td>\n",
       "      <td>3.0</td>\n",
       "      <td>3.0</td>\n",
       "      <td>3006.0</td>\n",
       "      <td>6037.0</td>\n",
       "      <td>1974.0</td>\n",
       "      <td>6523866.0</td>\n",
       "      <td>74726.31</td>\n",
       "      <td>261.0</td>\n",
       "    </tr>\n",
       "    <tr>\n",
       "      <th>16963</th>\n",
       "      <td>12272985</td>\n",
       "      <td>1.0</td>\n",
       "      <td>2.0</td>\n",
       "      <td>634.0</td>\n",
       "      <td>6037.0</td>\n",
       "      <td>1949.0</td>\n",
       "      <td>30371.0</td>\n",
       "      <td>933.69</td>\n",
       "      <td>261.0</td>\n",
       "    </tr>\n",
       "  </tbody>\n",
       "</table>\n",
       "</div>"
      ],
      "text/plain": [
       "       parcelid  bath  bed   sqrft  county  yearbuilt     taxval    taxamt  \\\n",
       "5959   11324084   3.0  3.0  2544.0  6037.0     2005.0   228849.0   5519.18   \n",
       "21006  12797236   1.0  3.0  1176.0  6037.0     1952.0   215183.0   2818.59   \n",
       "14071  12319787   2.0  3.0  1690.0  6037.0     1975.0   100911.0   1426.08   \n",
       "23145  11682794   3.0  3.0  3006.0  6037.0     1974.0  6523866.0  74726.31   \n",
       "16963  12272985   1.0  2.0   634.0  6037.0     1949.0    30371.0    933.69   \n",
       "\n",
       "       propertylandusetypeid  \n",
       "5959                   261.0  \n",
       "21006                  261.0  \n",
       "14071                  261.0  \n",
       "23145                  261.0  \n",
       "16963                  261.0  "
      ]
     },
     "execution_count": 32,
     "metadata": {},
     "output_type": "execute_result"
    }
   ],
   "source": [
    "train.head()"
   ]
  },
  {
   "cell_type": "code",
   "execution_count": 33,
   "metadata": {},
   "outputs": [],
   "source": [
    "def split_target(train, validate, test, taxval):\n",
    "    # split train into X (dataframe, drop target) & y (series, keep target only)\n",
    "    X_train = train.drop(columns=['taxval'])\n",
    "    y_train = train['taxval']\n",
    "\n",
    "    # split validate into X (dataframe, drop target) & y (series, keep target only)\n",
    "    X_validate = validate.drop(columns=['taxval'])\n",
    "    y_validate = validate['taxval']\n",
    "\n",
    "    # split test into X (dataframe, drop target) & y (series, keep target only)\n",
    "    X_test = test.drop(columns=['taxval'])\n",
    "    y_test = test['taxval']\n",
    "\n",
    "    return X_train, y_train, X_validate, y_validate, X_test, y_test"
   ]
  },
  {
   "cell_type": "code",
   "execution_count": 34,
   "metadata": {},
   "outputs": [],
   "source": [
    "X_train, y_train, X_validate, y_validate, X_test, y_test=split_target(train, validate, test, 'taxval')"
   ]
  },
  {
   "cell_type": "code",
   "execution_count": null,
   "metadata": {},
   "outputs": [],
   "source": []
  },
  {
   "cell_type": "code",
   "execution_count": 35,
   "metadata": {},
   "outputs": [],
   "source": [
    "numeric_cols = ['sqrft', 'taxamt']"
   ]
  },
  {
   "cell_type": "code",
   "execution_count": 36,
   "metadata": {},
   "outputs": [],
   "source": [
    "def min_max_scale(X_train, X_validate, X_test, numeric_cols):\n",
    "    \"\"\"\n",
    "    this function takes in 3 dataframes with the same columns,\n",
    "    a list of numeric column names (because the scaler can only work with numeric columns),\n",
    "    and fits a min-max scaler to the first dataframe and transforms all\n",
    "    3 dataframes using that scaler.\n",
    "    it returns 3 dataframes with the same column names and scaled values.\n",
    "    \"\"\"\n",
    "    # create the scaler object and fit it to X_train (i.e. identify min and max)\n",
    "    # if copy = false, inplace row normalization happens and avoids a copy (if the input is already a numpy array).\n",
    "\n",
    "    scaler = MinMaxScaler(copy=True).fit(X_train[numeric_cols])\n",
    "\n",
    "    # scale X_train, X_validate, X_test using the mins and maxes stored in the scaler derived from X_train.\n",
    "    #\n",
    "    X_train_scaled_array = scaler.transform(X_train[numeric_cols])\n",
    "    X_validate_scaled_array = scaler.transform(X_validate[numeric_cols])\n",
    "    X_test_scaled_array = scaler.transform(X_test[numeric_cols])\n",
    "\n",
    "    # convert arrays to dataframes\n",
    "    X_train_scaled = pd.DataFrame(X_train_scaled_array, columns=numeric_cols).set_index(\n",
    "        [X_train.index.values]\n",
    "    )\n",
    "\n",
    "    X_validate_scaled = pd.DataFrame(\n",
    "        X_validate_scaled_array, columns=numeric_cols\n",
    "    ).set_index([X_validate.index.values])\n",
    "\n",
    "    X_test_scaled = pd.DataFrame(X_test_scaled_array, columns=numeric_cols).set_index(\n",
    "        [X_test.index.values]\n",
    "    )\n",
    "\n",
    "    return X_train_scaled, X_validate_scaled, X_test_scaled"
   ]
  },
  {
   "cell_type": "code",
   "execution_count": 37,
   "metadata": {},
   "outputs": [],
   "source": [
    "X_train_scaled, X_validate_scaled, X_test_scaled= min_max_scale(X_train, X_validate, X_test, numeric_cols)"
   ]
  },
  {
   "cell_type": "code",
   "execution_count": 38,
   "metadata": {},
   "outputs": [
    {
     "data": {
      "text/plain": [
       "((15388, 2), (5130, 2), (5130, 2))"
      ]
     },
     "execution_count": 38,
     "metadata": {},
     "output_type": "execute_result"
    }
   ],
   "source": [
    "X_train_scaled.shape, X_validate_scaled.shape, X_test_scaled.shape"
   ]
  },
  {
   "cell_type": "code",
   "execution_count": 39,
   "metadata": {},
   "outputs": [
    {
     "data": {
      "text/html": [
       "<div>\n",
       "<style scoped>\n",
       "    .dataframe tbody tr th:only-of-type {\n",
       "        vertical-align: middle;\n",
       "    }\n",
       "\n",
       "    .dataframe tbody tr th {\n",
       "        vertical-align: top;\n",
       "    }\n",
       "\n",
       "    .dataframe thead th {\n",
       "        text-align: right;\n",
       "    }\n",
       "</style>\n",
       "<table border=\"1\" class=\"dataframe\">\n",
       "  <thead>\n",
       "    <tr style=\"text-align: right;\">\n",
       "      <th></th>\n",
       "      <th>sqrft</th>\n",
       "      <th>taxamt</th>\n",
       "    </tr>\n",
       "  </thead>\n",
       "  <tbody>\n",
       "    <tr>\n",
       "      <th>5959</th>\n",
       "      <td>0.680995</td>\n",
       "      <td>0.057207</td>\n",
       "    </tr>\n",
       "    <tr>\n",
       "      <th>21006</th>\n",
       "      <td>0.260976</td>\n",
       "      <td>0.028952</td>\n",
       "    </tr>\n",
       "    <tr>\n",
       "      <th>14071</th>\n",
       "      <td>0.418790</td>\n",
       "      <td>0.014384</td>\n",
       "    </tr>\n",
       "    <tr>\n",
       "      <th>23145</th>\n",
       "      <td>0.822843</td>\n",
       "      <td>0.781267</td>\n",
       "    </tr>\n",
       "    <tr>\n",
       "      <th>16963</th>\n",
       "      <td>0.094566</td>\n",
       "      <td>0.009232</td>\n",
       "    </tr>\n",
       "    <tr>\n",
       "      <th>...</th>\n",
       "      <td>...</td>\n",
       "      <td>...</td>\n",
       "    </tr>\n",
       "    <tr>\n",
       "      <th>27776</th>\n",
       "      <td>0.333129</td>\n",
       "      <td>0.074550</td>\n",
       "    </tr>\n",
       "    <tr>\n",
       "      <th>4813</th>\n",
       "      <td>0.678539</td>\n",
       "      <td>0.040647</td>\n",
       "    </tr>\n",
       "    <tr>\n",
       "      <th>25688</th>\n",
       "      <td>0.198342</td>\n",
       "      <td>0.052974</td>\n",
       "    </tr>\n",
       "    <tr>\n",
       "      <th>995</th>\n",
       "      <td>0.210623</td>\n",
       "      <td>0.032720</td>\n",
       "    </tr>\n",
       "    <tr>\n",
       "      <th>16512</th>\n",
       "      <td>0.720909</td>\n",
       "      <td>0.090859</td>\n",
       "    </tr>\n",
       "  </tbody>\n",
       "</table>\n",
       "<p>15388 rows × 2 columns</p>\n",
       "</div>"
      ],
      "text/plain": [
       "          sqrft    taxamt\n",
       "5959   0.680995  0.057207\n",
       "21006  0.260976  0.028952\n",
       "14071  0.418790  0.014384\n",
       "23145  0.822843  0.781267\n",
       "16963  0.094566  0.009232\n",
       "...         ...       ...\n",
       "27776  0.333129  0.074550\n",
       "4813   0.678539  0.040647\n",
       "25688  0.198342  0.052974\n",
       "995    0.210623  0.032720\n",
       "16512  0.720909  0.090859\n",
       "\n",
       "[15388 rows x 2 columns]"
      ]
     },
     "execution_count": 39,
     "metadata": {},
     "output_type": "execute_result"
    }
   ],
   "source": [
    "X_train_scaled"
   ]
  },
  {
   "cell_type": "code",
   "execution_count": null,
   "metadata": {},
   "outputs": [],
   "source": []
  },
  {
   "cell_type": "markdown",
   "metadata": {},
   "source": [
    "### Explore"
   ]
  },
  {
   "cell_type": "code",
   "execution_count": 40,
   "metadata": {},
   "outputs": [],
   "source": [
    "# a lot of these functions already came from the prepare.py file kbest, rfe"
   ]
  },
  {
   "cell_type": "code",
   "execution_count": 41,
   "metadata": {},
   "outputs": [
    {
     "data": {
      "text/plain": [
       "<AxesSubplot:xlabel='taxval'>"
      ]
     },
     "execution_count": 41,
     "metadata": {},
     "output_type": "execute_result"
    },
    {
     "data": {
      "image/png": "[encoded data removed]",
      "text/plain": [
       "<Figure size 1152x576 with 1 Axes>"
      ]
     },
     "metadata": {
      "needs_background": "light"
     },
     "output_type": "display_data"
    }
   ],
   "source": [
    "plt.figure(figsize=(16, 8))\n",
    "sns.boxplot(train['taxval'])"
   ]
  },
  {
   "cell_type": "code",
   "execution_count": 42,
   "metadata": {},
   "outputs": [
    {
     "data": {
      "text/html": [
       "<div>\n",
       "<style scoped>\n",
       "    .dataframe tbody tr th:only-of-type {\n",
       "        vertical-align: middle;\n",
       "    }\n",
       "\n",
       "    .dataframe tbody tr th {\n",
       "        vertical-align: top;\n",
       "    }\n",
       "\n",
       "    .dataframe thead th {\n",
       "        text-align: right;\n",
       "    }\n",
       "</style>\n",
       "<table border=\"1\" class=\"dataframe\">\n",
       "  <thead>\n",
       "    <tr style=\"text-align: right;\">\n",
       "      <th></th>\n",
       "      <th>bath</th>\n",
       "      <th>bed</th>\n",
       "      <th>sqrft</th>\n",
       "      <th>county</th>\n",
       "      <th>yearbuilt</th>\n",
       "      <th>taxval</th>\n",
       "      <th>taxamt</th>\n",
       "    </tr>\n",
       "  </thead>\n",
       "  <tbody>\n",
       "    <tr>\n",
       "      <th>5959</th>\n",
       "      <td>3.0</td>\n",
       "      <td>3.0</td>\n",
       "      <td>2544.0</td>\n",
       "      <td>6037.0</td>\n",
       "      <td>2005.0</td>\n",
       "      <td>228849.0</td>\n",
       "      <td>5519.18</td>\n",
       "    </tr>\n",
       "    <tr>\n",
       "      <th>21006</th>\n",
       "      <td>1.0</td>\n",
       "      <td>3.0</td>\n",
       "      <td>1176.0</td>\n",
       "      <td>6037.0</td>\n",
       "      <td>1952.0</td>\n",
       "      <td>215183.0</td>\n",
       "      <td>2818.59</td>\n",
       "    </tr>\n",
       "    <tr>\n",
       "      <th>14071</th>\n",
       "      <td>2.0</td>\n",
       "      <td>3.0</td>\n",
       "      <td>1690.0</td>\n",
       "      <td>6037.0</td>\n",
       "      <td>1975.0</td>\n",
       "      <td>100911.0</td>\n",
       "      <td>1426.08</td>\n",
       "    </tr>\n",
       "    <tr>\n",
       "      <th>23145</th>\n",
       "      <td>3.0</td>\n",
       "      <td>3.0</td>\n",
       "      <td>3006.0</td>\n",
       "      <td>6037.0</td>\n",
       "      <td>1974.0</td>\n",
       "      <td>6523866.0</td>\n",
       "      <td>74726.31</td>\n",
       "    </tr>\n",
       "    <tr>\n",
       "      <th>16963</th>\n",
       "      <td>1.0</td>\n",
       "      <td>2.0</td>\n",
       "      <td>634.0</td>\n",
       "      <td>6037.0</td>\n",
       "      <td>1949.0</td>\n",
       "      <td>30371.0</td>\n",
       "      <td>933.69</td>\n",
       "    </tr>\n",
       "    <tr>\n",
       "      <th>...</th>\n",
       "      <td>...</td>\n",
       "      <td>...</td>\n",
       "      <td>...</td>\n",
       "      <td>...</td>\n",
       "      <td>...</td>\n",
       "      <td>...</td>\n",
       "      <td>...</td>\n",
       "    </tr>\n",
       "    <tr>\n",
       "      <th>27776</th>\n",
       "      <td>2.0</td>\n",
       "      <td>2.0</td>\n",
       "      <td>1411.0</td>\n",
       "      <td>6037.0</td>\n",
       "      <td>1962.0</td>\n",
       "      <td>580623.0</td>\n",
       "      <td>7176.89</td>\n",
       "    </tr>\n",
       "    <tr>\n",
       "      <th>4813</th>\n",
       "      <td>2.5</td>\n",
       "      <td>5.0</td>\n",
       "      <td>2536.0</td>\n",
       "      <td>6059.0</td>\n",
       "      <td>1975.0</td>\n",
       "      <td>354581.0</td>\n",
       "      <td>3936.38</td>\n",
       "    </tr>\n",
       "    <tr>\n",
       "      <th>25688</th>\n",
       "      <td>1.0</td>\n",
       "      <td>3.0</td>\n",
       "      <td>972.0</td>\n",
       "      <td>6037.0</td>\n",
       "      <td>1952.0</td>\n",
       "      <td>425000.0</td>\n",
       "      <td>5114.59</td>\n",
       "    </tr>\n",
       "    <tr>\n",
       "      <th>995</th>\n",
       "      <td>1.0</td>\n",
       "      <td>3.0</td>\n",
       "      <td>1012.0</td>\n",
       "      <td>6037.0</td>\n",
       "      <td>1944.0</td>\n",
       "      <td>253162.0</td>\n",
       "      <td>3178.72</td>\n",
       "    </tr>\n",
       "    <tr>\n",
       "      <th>16512</th>\n",
       "      <td>3.0</td>\n",
       "      <td>4.0</td>\n",
       "      <td>2674.0</td>\n",
       "      <td>6059.0</td>\n",
       "      <td>1980.0</td>\n",
       "      <td>853000.0</td>\n",
       "      <td>8735.72</td>\n",
       "    </tr>\n",
       "  </tbody>\n",
       "</table>\n",
       "<p>15388 rows × 7 columns</p>\n",
       "</div>"
      ],
      "text/plain": [
       "       bath  bed   sqrft  county  yearbuilt     taxval    taxamt\n",
       "5959    3.0  3.0  2544.0  6037.0     2005.0   228849.0   5519.18\n",
       "21006   1.0  3.0  1176.0  6037.0     1952.0   215183.0   2818.59\n",
       "14071   2.0  3.0  1690.0  6037.0     1975.0   100911.0   1426.08\n",
       "23145   3.0  3.0  3006.0  6037.0     1974.0  6523866.0  74726.31\n",
       "16963   1.0  2.0   634.0  6037.0     1949.0    30371.0    933.69\n",
       "...     ...  ...     ...     ...        ...        ...       ...\n",
       "27776   2.0  2.0  1411.0  6037.0     1962.0   580623.0   7176.89\n",
       "4813    2.5  5.0  2536.0  6059.0     1975.0   354581.0   3936.38\n",
       "25688   1.0  3.0   972.0  6037.0     1952.0   425000.0   5114.59\n",
       "995     1.0  3.0  1012.0  6037.0     1944.0   253162.0   3178.72\n",
       "16512   3.0  4.0  2674.0  6059.0     1980.0   853000.0   8735.72\n",
       "\n",
       "[15388 rows x 7 columns]"
      ]
     },
     "execution_count": 42,
     "metadata": {},
     "output_type": "execute_result"
    }
   ],
   "source": [
    "df_corr = train.drop(columns=['parcelid', 'propertylandusetypeid'])\n",
    "df_corr"
   ]
  },
  {
   "cell_type": "markdown",
   "metadata": {},
   "source": [
    "### KBest"
   ]
  },
  {
   "cell_type": "code",
   "execution_count": 43,
   "metadata": {},
   "outputs": [
    {
     "data": {
      "text/plain": [
       "SelectKBest(k=2, score_func=<function f_regression at 0x7fcaab0ec3a0>)"
      ]
     },
     "execution_count": 43,
     "metadata": {},
     "output_type": "execute_result"
    }
   ],
   "source": [
    "f_selector = SelectKBest(score_func=f_regression, k=2)\n",
    "f_selector.fit(X_train_scaled, y_train)"
   ]
  },
  {
   "cell_type": "code",
   "execution_count": 44,
   "metadata": {},
   "outputs": [
    {
     "data": {
      "text/plain": [
       "Index(['sqrft', 'taxamt'], dtype='object')"
      ]
     },
     "execution_count": 44,
     "metadata": {},
     "output_type": "execute_result"
    }
   ],
   "source": [
    "mask = f_selector.get_support()\n",
    "X_train_scaled.columns[mask]"
   ]
  },
  {
   "cell_type": "code",
   "execution_count": 45,
   "metadata": {},
   "outputs": [],
   "source": [
    "X_train_kbest = f_selector.transform(X_train_scaled)\n",
    "model = LinearRegression().fit(X_train_kbest, y_train)"
   ]
  },
  {
   "cell_type": "code",
   "execution_count": 46,
   "metadata": {},
   "outputs": [],
   "source": [
    "# statistical testing"
   ]
  },
  {
   "cell_type": "markdown",
   "metadata": {},
   "source": [
    "### T-Test"
   ]
  },
  {
   "cell_type": "markdown",
   "metadata": {},
   "source": [
    "- $H_o$ There is no correlation between sqft and tax value \n",
    "- $H_a$ There is a correlation between sqft and tax value"
   ]
  },
  {
   "cell_type": "code",
   "execution_count": 47,
   "metadata": {},
   "outputs": [],
   "source": [
    "# set alpha\n",
    "alpha = 0.05"
   ]
  },
  {
   "cell_type": "code",
   "execution_count": 48,
   "metadata": {},
   "outputs": [
    {
     "data": {
      "text/html": [
       "<div>\n",
       "<style scoped>\n",
       "    .dataframe tbody tr th:only-of-type {\n",
       "        vertical-align: middle;\n",
       "    }\n",
       "\n",
       "    .dataframe tbody tr th {\n",
       "        vertical-align: top;\n",
       "    }\n",
       "\n",
       "    .dataframe thead th {\n",
       "        text-align: right;\n",
       "    }\n",
       "</style>\n",
       "<table border=\"1\" class=\"dataframe\">\n",
       "  <thead>\n",
       "    <tr style=\"text-align: right;\">\n",
       "      <th></th>\n",
       "      <th>parcelid</th>\n",
       "      <th>bath</th>\n",
       "      <th>bed</th>\n",
       "      <th>sqrft</th>\n",
       "      <th>county</th>\n",
       "      <th>yearbuilt</th>\n",
       "      <th>taxval</th>\n",
       "      <th>taxamt</th>\n",
       "      <th>propertylandusetypeid</th>\n",
       "    </tr>\n",
       "  </thead>\n",
       "  <tbody>\n",
       "    <tr>\n",
       "      <th>0</th>\n",
       "      <td>11721753</td>\n",
       "      <td>2.0</td>\n",
       "      <td>3.0</td>\n",
       "      <td>1316.0</td>\n",
       "      <td>6037.0</td>\n",
       "      <td>1923.0</td>\n",
       "      <td>205123.0</td>\n",
       "      <td>2627.48</td>\n",
       "      <td>261.0</td>\n",
       "    </tr>\n",
       "    <tr>\n",
       "      <th>1</th>\n",
       "      <td>11289917</td>\n",
       "      <td>2.0</td>\n",
       "      <td>3.0</td>\n",
       "      <td>1458.0</td>\n",
       "      <td>6037.0</td>\n",
       "      <td>1970.0</td>\n",
       "      <td>136104.0</td>\n",
       "      <td>2319.90</td>\n",
       "      <td>261.0</td>\n",
       "    </tr>\n",
       "    <tr>\n",
       "      <th>2</th>\n",
       "      <td>11705026</td>\n",
       "      <td>1.0</td>\n",
       "      <td>2.0</td>\n",
       "      <td>1421.0</td>\n",
       "      <td>6037.0</td>\n",
       "      <td>1911.0</td>\n",
       "      <td>35606.0</td>\n",
       "      <td>543.69</td>\n",
       "      <td>261.0</td>\n",
       "    </tr>\n",
       "  </tbody>\n",
       "</table>\n",
       "</div>"
      ],
      "text/plain": [
       "   parcelid  bath  bed   sqrft  county  yearbuilt    taxval   taxamt  \\\n",
       "0  11721753   2.0  3.0  1316.0  6037.0     1923.0  205123.0  2627.48   \n",
       "1  11289917   2.0  3.0  1458.0  6037.0     1970.0  136104.0  2319.90   \n",
       "2  11705026   1.0  2.0  1421.0  6037.0     1911.0   35606.0   543.69   \n",
       "\n",
       "   propertylandusetypeid  \n",
       "0                  261.0  \n",
       "1                  261.0  \n",
       "2                  261.0  "
      ]
     },
     "execution_count": 48,
     "metadata": {},
     "output_type": "execute_result"
    }
   ],
   "source": [
    "df.head(3)"
   ]
  },
  {
   "cell_type": "code",
   "execution_count": 49,
   "metadata": {},
   "outputs": [],
   "source": [
    "t, p = stats.ttest_ind(train.taxval,train.sqrft, equal_var=False)"
   ]
  },
  {
   "cell_type": "code",
   "execution_count": 50,
   "metadata": {},
   "outputs": [
    {
     "data": {
      "text/plain": [
       "True"
      ]
     },
     "execution_count": 50,
     "metadata": {},
     "output_type": "execute_result"
    }
   ],
   "source": [
    "# check if the p is less than the alpha\n",
    "p<alpha"
   ]
  },
  {
   "cell_type": "code",
   "execution_count": 51,
   "metadata": {},
   "outputs": [],
   "source": [
    "#Since p is less than our alpha, we reject the null hypothesis. "
   ]
  },
  {
   "cell_type": "code",
   "execution_count": null,
   "metadata": {},
   "outputs": [],
   "source": []
  },
  {
   "cell_type": "markdown",
   "metadata": {},
   "source": [
    "### Correlation Test"
   ]
  },
  {
   "cell_type": "markdown",
   "metadata": {},
   "source": [
    "- $H_o$ There is no correlation between bedroom count and tax value\n",
    "- $H_a$ There is a correlation between bedroom count and tax value"
   ]
  },
  {
   "cell_type": "code",
   "execution_count": 52,
   "metadata": {},
   "outputs": [],
   "source": [
    "x = df['taxval']\n",
    "y = df['bed']"
   ]
  },
  {
   "cell_type": "code",
   "execution_count": 53,
   "metadata": {},
   "outputs": [],
   "source": [
    "# r is the correlation or corr\n",
    "r, p = stats.pearsonr(x, y)"
   ]
  },
  {
   "cell_type": "code",
   "execution_count": 54,
   "metadata": {},
   "outputs": [
    {
     "data": {
      "text/plain": [
       "True"
      ]
     },
     "execution_count": 54,
     "metadata": {},
     "output_type": "execute_result"
    }
   ],
   "source": [
    "p<alpha"
   ]
  },
  {
   "cell_type": "code",
   "execution_count": 55,
   "metadata": {},
   "outputs": [],
   "source": [
    "#Since p is less than our alpha, we reject the null hypothesis. "
   ]
  },
  {
   "cell_type": "code",
   "execution_count": 56,
   "metadata": {},
   "outputs": [],
   "source": [
    "x2 = df['taxval']\n",
    "y2 = df['bath']"
   ]
  },
  {
   "cell_type": "code",
   "execution_count": 57,
   "metadata": {},
   "outputs": [],
   "source": [
    "r, p = stats.pearsonr(x2, y2)"
   ]
  },
  {
   "cell_type": "code",
   "execution_count": 58,
   "metadata": {},
   "outputs": [
    {
     "data": {
      "text/plain": [
       "True"
      ]
     },
     "execution_count": 58,
     "metadata": {},
     "output_type": "execute_result"
    }
   ],
   "source": [
    "p<alpha"
   ]
  },
  {
   "cell_type": "code",
   "execution_count": 59,
   "metadata": {},
   "outputs": [],
   "source": [
    "#Since p is less than our alpha, we reject the null hypothesis. "
   ]
  },
  {
   "cell_type": "code",
   "execution_count": 60,
   "metadata": {},
   "outputs": [],
   "source": [
    "# prove mvp is correlated to price"
   ]
  },
  {
   "cell_type": "code",
   "execution_count": null,
   "metadata": {},
   "outputs": [],
   "source": []
  },
  {
   "cell_type": "code",
   "execution_count": null,
   "metadata": {},
   "outputs": [],
   "source": []
  },
  {
   "cell_type": "code",
   "execution_count": 61,
   "metadata": {},
   "outputs": [],
   "source": [
    "# key drivers - MVP\n",
    "\n",
    "\n",
    "# bed, bath, sqft"
   ]
  },
  {
   "cell_type": "markdown",
   "metadata": {},
   "source": [
    "#### Since we reject the null hypothesis on bedroom count, bathroom count and tax value, they will be the MVP"
   ]
  },
  {
   "cell_type": "code",
   "execution_count": 62,
   "metadata": {},
   "outputs": [
    {
     "data": {
      "text/html": [
       "<div>\n",
       "<style scoped>\n",
       "    .dataframe tbody tr th:only-of-type {\n",
       "        vertical-align: middle;\n",
       "    }\n",
       "\n",
       "    .dataframe tbody tr th {\n",
       "        vertical-align: top;\n",
       "    }\n",
       "\n",
       "    .dataframe thead th {\n",
       "        text-align: right;\n",
       "    }\n",
       "</style>\n",
       "<table border=\"1\" class=\"dataframe\">\n",
       "  <thead>\n",
       "    <tr style=\"text-align: right;\">\n",
       "      <th></th>\n",
       "      <th>parcelid</th>\n",
       "      <th>bath</th>\n",
       "      <th>bed</th>\n",
       "      <th>sqrft</th>\n",
       "      <th>county</th>\n",
       "      <th>yearbuilt</th>\n",
       "      <th>taxval</th>\n",
       "      <th>taxamt</th>\n",
       "      <th>propertylandusetypeid</th>\n",
       "    </tr>\n",
       "  </thead>\n",
       "  <tbody>\n",
       "    <tr>\n",
       "      <th>0</th>\n",
       "      <td>11721753</td>\n",
       "      <td>2.0</td>\n",
       "      <td>3.0</td>\n",
       "      <td>1316.0</td>\n",
       "      <td>6037.0</td>\n",
       "      <td>1923.0</td>\n",
       "      <td>205123.0</td>\n",
       "      <td>2627.48</td>\n",
       "      <td>261.0</td>\n",
       "    </tr>\n",
       "    <tr>\n",
       "      <th>1</th>\n",
       "      <td>11289917</td>\n",
       "      <td>2.0</td>\n",
       "      <td>3.0</td>\n",
       "      <td>1458.0</td>\n",
       "      <td>6037.0</td>\n",
       "      <td>1970.0</td>\n",
       "      <td>136104.0</td>\n",
       "      <td>2319.90</td>\n",
       "      <td>261.0</td>\n",
       "    </tr>\n",
       "    <tr>\n",
       "      <th>2</th>\n",
       "      <td>11705026</td>\n",
       "      <td>1.0</td>\n",
       "      <td>2.0</td>\n",
       "      <td>1421.0</td>\n",
       "      <td>6037.0</td>\n",
       "      <td>1911.0</td>\n",
       "      <td>35606.0</td>\n",
       "      <td>543.69</td>\n",
       "      <td>261.0</td>\n",
       "    </tr>\n",
       "  </tbody>\n",
       "</table>\n",
       "</div>"
      ],
      "text/plain": [
       "   parcelid  bath  bed   sqrft  county  yearbuilt    taxval   taxamt  \\\n",
       "0  11721753   2.0  3.0  1316.0  6037.0     1923.0  205123.0  2627.48   \n",
       "1  11289917   2.0  3.0  1458.0  6037.0     1970.0  136104.0  2319.90   \n",
       "2  11705026   1.0  2.0  1421.0  6037.0     1911.0   35606.0   543.69   \n",
       "\n",
       "   propertylandusetypeid  \n",
       "0                  261.0  \n",
       "1                  261.0  \n",
       "2                  261.0  "
      ]
     },
     "execution_count": 62,
     "metadata": {},
     "output_type": "execute_result"
    }
   ],
   "source": [
    "df.head(3)"
   ]
  },
  {
   "cell_type": "markdown",
   "metadata": {},
   "source": [
    "### Modeling"
   ]
  },
  {
   "cell_type": "code",
   "execution_count": 63,
   "metadata": {},
   "outputs": [],
   "source": [
    "# start running models - Linear regression, polynomial regression(skewed data, curved data).....  (depending on what your data looks like)"
   ]
  },
  {
   "cell_type": "code",
   "execution_count": 64,
   "metadata": {},
   "outputs": [
    {
     "data": {
      "text/plain": [
       "5959      228849.0\n",
       "21006     215183.0\n",
       "14071     100911.0\n",
       "23145    6523866.0\n",
       "16963      30371.0\n",
       "Name: taxval, dtype: float64"
      ]
     },
     "execution_count": 64,
     "metadata": {},
     "output_type": "execute_result"
    }
   ],
   "source": [
    "y_train.head()"
   ]
  },
  {
   "cell_type": "markdown",
   "metadata": {},
   "source": [
    "Find your baseline"
   ]
  },
  {
   "cell_type": "code",
   "execution_count": 65,
   "metadata": {},
   "outputs": [
    {
     "data": {
      "image/png": "[encoded data removed]",
      "text/plain": [
       "<Figure size 432x288 with 1 Axes>"
      ]
     },
     "metadata": {
      "needs_background": "light"
     },
     "output_type": "display_data"
    }
   ],
   "source": [
    "# This helps us determine which type of algorithm we may want to use.\n",
    "\n",
    "plt.hist(y_train)\n",
    "plt.xlabel(\"taxval\")\n",
    "plt.ylabel(\"bed\")\n",
    "plt.show()"
   ]
  },
  {
   "cell_type": "code",
   "execution_count": 66,
   "metadata": {},
   "outputs": [
    {
     "name": "stdout",
     "output_type": "stream",
     "text": [
      "RMSE using Mean\n",
      "Train/In-Sample:  406798.22 \n",
      "Validate/Out-of-Sample:  393704.96\n"
     ]
    }
   ],
   "source": [
    "# We need y_train and y_validate to be dataframes to append the new columns with predicted values. \n",
    "y_train = pd.DataFrame({'taxval': y_train})\n",
    "y_validate = pd.DataFrame({'taxval':y_validate})\n",
    "y_test = pd.DataFrame({'taxval': y_test})\n",
    "\n",
    "\n",
    "# 1. Predict taxval_pred_mean\n",
    "taxval_pred_mean = y_train.taxval.mean()\n",
    "y_train['taxval_pred_mean'] = taxval_pred_mean\n",
    "y_validate['taxval_pred_mean'] = taxval_pred_mean\n",
    "y_test['taxval_pred_mean'] = taxval_pred_mean\n",
    "\n",
    "# 2. compute taxval_pred_median\n",
    "taxval_pred_median = y_train.taxval.median()\n",
    "y_train['taxval_pred_median'] = taxval_pred_median\n",
    "y_validate['taxval_pred_median'] = taxval_pred_median\n",
    "y_test['taxval_pred_median'] = taxval_pred_median\n",
    "\n",
    "# 3. RMSE of taxval_pred_mean\n",
    "rmse_train = mean_squared_error(y_train.taxval, y_train.taxval_pred_mean) ** 0.5\n",
    "rmse_validate = mean_squared_error(y_validate.taxval, y_validate.taxval_pred_mean) ** 0.5\n",
    "\n",
    "print(\"RMSE using Mean\\nTrain/In-Sample: \", round(rmse_train, 2), \n",
    "      \"\\nValidate/Out-of-Sample: \", round(rmse_validate, 2))\n",
    "\n",
    "# 4. RMSE of taxval_pred_median\n",
    "# rmse_train = mean_squared_error(y_train.taxval, y_train.taxval_pred_median) ** .5\n",
    "# rmse_validate = mean_squared_error(y_validate.taxval, y_validate.taxval_pred_median) ** .5\n",
    "# print(\"RMSE using Median\\nTrain/In-Sample: \", round(rmse_train, 2), \n",
    "#       \"\\nValidate/Out-of-Sample: \", round(rmse_validate, 2))"
   ]
  },
  {
   "cell_type": "code",
   "execution_count": 67,
   "metadata": {},
   "outputs": [
    {
     "data": {
      "text/html": [
       "<div>\n",
       "<style scoped>\n",
       "    .dataframe tbody tr th:only-of-type {\n",
       "        vertical-align: middle;\n",
       "    }\n",
       "\n",
       "    .dataframe tbody tr th {\n",
       "        vertical-align: top;\n",
       "    }\n",
       "\n",
       "    .dataframe thead th {\n",
       "        text-align: right;\n",
       "    }\n",
       "</style>\n",
       "<table border=\"1\" class=\"dataframe\">\n",
       "  <thead>\n",
       "    <tr style=\"text-align: right;\">\n",
       "      <th></th>\n",
       "      <th>parcelid</th>\n",
       "      <th>bath</th>\n",
       "      <th>bed</th>\n",
       "      <th>sqrft</th>\n",
       "      <th>county</th>\n",
       "      <th>yearbuilt</th>\n",
       "      <th>taxamt</th>\n",
       "      <th>propertylandusetypeid</th>\n",
       "    </tr>\n",
       "  </thead>\n",
       "  <tbody>\n",
       "    <tr>\n",
       "      <th>5959</th>\n",
       "      <td>11324084</td>\n",
       "      <td>3.0</td>\n",
       "      <td>3.0</td>\n",
       "      <td>2544.0</td>\n",
       "      <td>6037.0</td>\n",
       "      <td>2005.0</td>\n",
       "      <td>5519.18</td>\n",
       "      <td>261.0</td>\n",
       "    </tr>\n",
       "    <tr>\n",
       "      <th>21006</th>\n",
       "      <td>12797236</td>\n",
       "      <td>1.0</td>\n",
       "      <td>3.0</td>\n",
       "      <td>1176.0</td>\n",
       "      <td>6037.0</td>\n",
       "      <td>1952.0</td>\n",
       "      <td>2818.59</td>\n",
       "      <td>261.0</td>\n",
       "    </tr>\n",
       "    <tr>\n",
       "      <th>14071</th>\n",
       "      <td>12319787</td>\n",
       "      <td>2.0</td>\n",
       "      <td>3.0</td>\n",
       "      <td>1690.0</td>\n",
       "      <td>6037.0</td>\n",
       "      <td>1975.0</td>\n",
       "      <td>1426.08</td>\n",
       "      <td>261.0</td>\n",
       "    </tr>\n",
       "    <tr>\n",
       "      <th>23145</th>\n",
       "      <td>11682794</td>\n",
       "      <td>3.0</td>\n",
       "      <td>3.0</td>\n",
       "      <td>3006.0</td>\n",
       "      <td>6037.0</td>\n",
       "      <td>1974.0</td>\n",
       "      <td>74726.31</td>\n",
       "      <td>261.0</td>\n",
       "    </tr>\n",
       "    <tr>\n",
       "      <th>16963</th>\n",
       "      <td>12272985</td>\n",
       "      <td>1.0</td>\n",
       "      <td>2.0</td>\n",
       "      <td>634.0</td>\n",
       "      <td>6037.0</td>\n",
       "      <td>1949.0</td>\n",
       "      <td>933.69</td>\n",
       "      <td>261.0</td>\n",
       "    </tr>\n",
       "    <tr>\n",
       "      <th>...</th>\n",
       "      <td>...</td>\n",
       "      <td>...</td>\n",
       "      <td>...</td>\n",
       "      <td>...</td>\n",
       "      <td>...</td>\n",
       "      <td>...</td>\n",
       "      <td>...</td>\n",
       "      <td>...</td>\n",
       "    </tr>\n",
       "    <tr>\n",
       "      <th>27776</th>\n",
       "      <td>10917435</td>\n",
       "      <td>2.0</td>\n",
       "      <td>2.0</td>\n",
       "      <td>1411.0</td>\n",
       "      <td>6037.0</td>\n",
       "      <td>1962.0</td>\n",
       "      <td>7176.89</td>\n",
       "      <td>261.0</td>\n",
       "    </tr>\n",
       "    <tr>\n",
       "      <th>4813</th>\n",
       "      <td>14205663</td>\n",
       "      <td>2.5</td>\n",
       "      <td>5.0</td>\n",
       "      <td>2536.0</td>\n",
       "      <td>6059.0</td>\n",
       "      <td>1975.0</td>\n",
       "      <td>3936.38</td>\n",
       "      <td>261.0</td>\n",
       "    </tr>\n",
       "    <tr>\n",
       "      <th>25688</th>\n",
       "      <td>12796431</td>\n",
       "      <td>1.0</td>\n",
       "      <td>3.0</td>\n",
       "      <td>972.0</td>\n",
       "      <td>6037.0</td>\n",
       "      <td>1952.0</td>\n",
       "      <td>5114.59</td>\n",
       "      <td>261.0</td>\n",
       "    </tr>\n",
       "    <tr>\n",
       "      <th>995</th>\n",
       "      <td>12461505</td>\n",
       "      <td>1.0</td>\n",
       "      <td>3.0</td>\n",
       "      <td>1012.0</td>\n",
       "      <td>6037.0</td>\n",
       "      <td>1944.0</td>\n",
       "      <td>3178.72</td>\n",
       "      <td>261.0</td>\n",
       "    </tr>\n",
       "    <tr>\n",
       "      <th>16512</th>\n",
       "      <td>14475515</td>\n",
       "      <td>3.0</td>\n",
       "      <td>4.0</td>\n",
       "      <td>2674.0</td>\n",
       "      <td>6059.0</td>\n",
       "      <td>1980.0</td>\n",
       "      <td>8735.72</td>\n",
       "      <td>261.0</td>\n",
       "    </tr>\n",
       "  </tbody>\n",
       "</table>\n",
       "<p>15388 rows × 8 columns</p>\n",
       "</div>"
      ],
      "text/plain": [
       "       parcelid  bath  bed   sqrft  county  yearbuilt    taxamt  \\\n",
       "5959   11324084   3.0  3.0  2544.0  6037.0     2005.0   5519.18   \n",
       "21006  12797236   1.0  3.0  1176.0  6037.0     1952.0   2818.59   \n",
       "14071  12319787   2.0  3.0  1690.0  6037.0     1975.0   1426.08   \n",
       "23145  11682794   3.0  3.0  3006.0  6037.0     1974.0  74726.31   \n",
       "16963  12272985   1.0  2.0   634.0  6037.0     1949.0    933.69   \n",
       "...         ...   ...  ...     ...     ...        ...       ...   \n",
       "27776  10917435   2.0  2.0  1411.0  6037.0     1962.0   7176.89   \n",
       "4813   14205663   2.5  5.0  2536.0  6059.0     1975.0   3936.38   \n",
       "25688  12796431   1.0  3.0   972.0  6037.0     1952.0   5114.59   \n",
       "995    12461505   1.0  3.0  1012.0  6037.0     1944.0   3178.72   \n",
       "16512  14475515   3.0  4.0  2674.0  6059.0     1980.0   8735.72   \n",
       "\n",
       "       propertylandusetypeid  \n",
       "5959                   261.0  \n",
       "21006                  261.0  \n",
       "14071                  261.0  \n",
       "23145                  261.0  \n",
       "16963                  261.0  \n",
       "...                      ...  \n",
       "27776                  261.0  \n",
       "4813                   261.0  \n",
       "25688                  261.0  \n",
       "995                    261.0  \n",
       "16512                  261.0  \n",
       "\n",
       "[15388 rows x 8 columns]"
      ]
     },
     "execution_count": 67,
     "metadata": {},
     "output_type": "execute_result"
    }
   ],
   "source": [
    "X_train"
   ]
  },
  {
   "cell_type": "code",
   "execution_count": 68,
   "metadata": {},
   "outputs": [
    {
     "data": {
      "text/html": [
       "<div>\n",
       "<style scoped>\n",
       "    .dataframe tbody tr th:only-of-type {\n",
       "        vertical-align: middle;\n",
       "    }\n",
       "\n",
       "    .dataframe tbody tr th {\n",
       "        vertical-align: top;\n",
       "    }\n",
       "\n",
       "    .dataframe thead th {\n",
       "        text-align: right;\n",
       "    }\n",
       "</style>\n",
       "<table border=\"1\" class=\"dataframe\">\n",
       "  <thead>\n",
       "    <tr style=\"text-align: right;\">\n",
       "      <th></th>\n",
       "      <th>taxval</th>\n",
       "      <th>taxval_pred_mean</th>\n",
       "      <th>taxval_pred_median</th>\n",
       "    </tr>\n",
       "  </thead>\n",
       "  <tbody>\n",
       "    <tr>\n",
       "      <th>5959</th>\n",
       "      <td>228849.0</td>\n",
       "      <td>441325.041786</td>\n",
       "      <td>360000.0</td>\n",
       "    </tr>\n",
       "    <tr>\n",
       "      <th>21006</th>\n",
       "      <td>215183.0</td>\n",
       "      <td>441325.041786</td>\n",
       "      <td>360000.0</td>\n",
       "    </tr>\n",
       "    <tr>\n",
       "      <th>14071</th>\n",
       "      <td>100911.0</td>\n",
       "      <td>441325.041786</td>\n",
       "      <td>360000.0</td>\n",
       "    </tr>\n",
       "    <tr>\n",
       "      <th>23145</th>\n",
       "      <td>6523866.0</td>\n",
       "      <td>441325.041786</td>\n",
       "      <td>360000.0</td>\n",
       "    </tr>\n",
       "    <tr>\n",
       "      <th>16963</th>\n",
       "      <td>30371.0</td>\n",
       "      <td>441325.041786</td>\n",
       "      <td>360000.0</td>\n",
       "    </tr>\n",
       "    <tr>\n",
       "      <th>...</th>\n",
       "      <td>...</td>\n",
       "      <td>...</td>\n",
       "      <td>...</td>\n",
       "    </tr>\n",
       "    <tr>\n",
       "      <th>27776</th>\n",
       "      <td>580623.0</td>\n",
       "      <td>441325.041786</td>\n",
       "      <td>360000.0</td>\n",
       "    </tr>\n",
       "    <tr>\n",
       "      <th>4813</th>\n",
       "      <td>354581.0</td>\n",
       "      <td>441325.041786</td>\n",
       "      <td>360000.0</td>\n",
       "    </tr>\n",
       "    <tr>\n",
       "      <th>25688</th>\n",
       "      <td>425000.0</td>\n",
       "      <td>441325.041786</td>\n",
       "      <td>360000.0</td>\n",
       "    </tr>\n",
       "    <tr>\n",
       "      <th>995</th>\n",
       "      <td>253162.0</td>\n",
       "      <td>441325.041786</td>\n",
       "      <td>360000.0</td>\n",
       "    </tr>\n",
       "    <tr>\n",
       "      <th>16512</th>\n",
       "      <td>853000.0</td>\n",
       "      <td>441325.041786</td>\n",
       "      <td>360000.0</td>\n",
       "    </tr>\n",
       "  </tbody>\n",
       "</table>\n",
       "<p>15388 rows × 3 columns</p>\n",
       "</div>"
      ],
      "text/plain": [
       "          taxval  taxval_pred_mean  taxval_pred_median\n",
       "5959    228849.0     441325.041786            360000.0\n",
       "21006   215183.0     441325.041786            360000.0\n",
       "14071   100911.0     441325.041786            360000.0\n",
       "23145  6523866.0     441325.041786            360000.0\n",
       "16963    30371.0     441325.041786            360000.0\n",
       "...          ...               ...                 ...\n",
       "27776   580623.0     441325.041786            360000.0\n",
       "4813    354581.0     441325.041786            360000.0\n",
       "25688   425000.0     441325.041786            360000.0\n",
       "995     253162.0     441325.041786            360000.0\n",
       "16512   853000.0     441325.041786            360000.0\n",
       "\n",
       "[15388 rows x 3 columns]"
      ]
     },
     "execution_count": 68,
     "metadata": {},
     "output_type": "execute_result"
    }
   ],
   "source": [
    "y_train"
   ]
  },
  {
   "cell_type": "code",
   "execution_count": 69,
   "metadata": {},
   "outputs": [],
   "source": [
    "metric_df = pd.DataFrame(data=[{\n",
    "    'model': 'mean_baseline',\n",
    "    'rmse_validate': rmse_validate,\n",
    "    'r^2_validate': explained_variance_score(y_validate.taxval, y_validate.taxval_pred_mean)}])"
   ]
  },
  {
   "cell_type": "code",
   "execution_count": 70,
   "metadata": {},
   "outputs": [
    {
     "data": {
      "text/html": [
       "<div>\n",
       "<style scoped>\n",
       "    .dataframe tbody tr th:only-of-type {\n",
       "        vertical-align: middle;\n",
       "    }\n",
       "\n",
       "    .dataframe tbody tr th {\n",
       "        vertical-align: top;\n",
       "    }\n",
       "\n",
       "    .dataframe thead th {\n",
       "        text-align: right;\n",
       "    }\n",
       "</style>\n",
       "<table border=\"1\" class=\"dataframe\">\n",
       "  <thead>\n",
       "    <tr style=\"text-align: right;\">\n",
       "      <th></th>\n",
       "      <th>model</th>\n",
       "      <th>rmse_validate</th>\n",
       "      <th>r^2_validate</th>\n",
       "    </tr>\n",
       "  </thead>\n",
       "  <tbody>\n",
       "    <tr>\n",
       "      <th>0</th>\n",
       "      <td>mean_baseline</td>\n",
       "      <td>393704.956626</td>\n",
       "      <td>0.0</td>\n",
       "    </tr>\n",
       "  </tbody>\n",
       "</table>\n",
       "</div>"
      ],
      "text/plain": [
       "           model  rmse_validate  r^2_validate\n",
       "0  mean_baseline  393704.956626           0.0"
      ]
     },
     "execution_count": 70,
     "metadata": {},
     "output_type": "execute_result"
    }
   ],
   "source": [
    "metric_df"
   ]
  },
  {
   "cell_type": "code",
   "execution_count": null,
   "metadata": {},
   "outputs": [],
   "source": []
  },
  {
   "cell_type": "code",
   "execution_count": 71,
   "metadata": {},
   "outputs": [
    {
     "data": {
      "image/png": "[encoded data removed]",
      "text/plain": [
       "<Figure size 432x288 with 1 Axes>"
      ]
     },
     "metadata": {
      "needs_background": "light"
     },
     "output_type": "display_data"
    }
   ],
   "source": [
    "plt.hist(y_train.taxval, color='blue', alpha=.5, label=\"Actual tax value\")\n",
    "plt.hist(y_train.taxval_pred_mean, bins=1, color='red', alpha=.5, rwidth=100, label=\"Predicted tax value - Mean\")\n",
    "plt.hist(y_train.taxval_pred_median, bins=1, color='orange', alpha=.5, rwidth=100, label=\"Predicted tax value - Median\")\n",
    "plt.xlabel(\"Final tax value (taxval)\")\n",
    "plt.ylabel(\"Number of houses\")\n",
    "plt.legend()\n",
    "plt.show()"
   ]
  },
  {
   "cell_type": "code",
   "execution_count": null,
   "metadata": {},
   "outputs": [],
   "source": []
  },
  {
   "cell_type": "markdown",
   "metadata": {},
   "source": [
    "#### LinearRegression"
   ]
  },
  {
   "cell_type": "code",
   "execution_count": 72,
   "metadata": {},
   "outputs": [
    {
     "name": "stdout",
     "output_type": "stream",
     "text": [
      "RMSE for OLS using LinearRegression\n",
      "Training/In-Sample:  78452.54836186976 \n",
      "Validation/Out-of-Sample:  69001.70708224273\n"
     ]
    }
   ],
   "source": [
    "lm = LinearRegression(normalize=True)\n",
    "# fit the thing\n",
    "# \n",
    "lm.fit(X_train, y_train.taxval)\n",
    "\n",
    "# predict train\n",
    "# \n",
    "# use the thing!\n",
    "# \n",
    "y_train['taxval_pred_lm'] = lm.predict(X_train)\n",
    "\n",
    "# evaluate: rmse\n",
    "rmse_train = mean_squared_error(y_train.taxval, y_train.taxval_pred_lm) ** (1/2)\n",
    "# predict validate\n",
    "y_validate['taxval_pred_lm'] = lm.predict(X_validate)\n",
    "\n",
    "# evaluate: rmse\n",
    "rmse_validate = mean_squared_error(y_validate.taxval, y_validate.taxval_pred_lm) ** (1/2)\n",
    "\n",
    "print(\"RMSE for OLS using LinearRegression\\nTraining/In-Sample: \", rmse_train, \n",
    "      \"\\nValidation/Out-of-Sample: \", rmse_validate)"
   ]
  },
  {
   "cell_type": "code",
   "execution_count": 73,
   "metadata": {},
   "outputs": [],
   "source": [
    "metric_df = metric_df.append(\n",
    "    {\n",
    "    'model': 'OLS lm',\n",
    "    'rmse_validate': rmse_validate,\n",
    "    'r^2_validate': explained_variance_score(y_validate.taxval, y_validate.taxval_pred_lm)}, ignore_index=True)"
   ]
  },
  {
   "cell_type": "code",
   "execution_count": 74,
   "metadata": {},
   "outputs": [
    {
     "data": {
      "text/html": [
       "<div>\n",
       "<style scoped>\n",
       "    .dataframe tbody tr th:only-of-type {\n",
       "        vertical-align: middle;\n",
       "    }\n",
       "\n",
       "    .dataframe tbody tr th {\n",
       "        vertical-align: top;\n",
       "    }\n",
       "\n",
       "    .dataframe thead th {\n",
       "        text-align: right;\n",
       "    }\n",
       "</style>\n",
       "<table border=\"1\" class=\"dataframe\">\n",
       "  <thead>\n",
       "    <tr style=\"text-align: right;\">\n",
       "      <th></th>\n",
       "      <th>model</th>\n",
       "      <th>rmse_validate</th>\n",
       "      <th>r^2_validate</th>\n",
       "    </tr>\n",
       "  </thead>\n",
       "  <tbody>\n",
       "    <tr>\n",
       "      <th>0</th>\n",
       "      <td>mean_baseline</td>\n",
       "      <td>393704.956626</td>\n",
       "      <td>0.000000</td>\n",
       "    </tr>\n",
       "    <tr>\n",
       "      <th>1</th>\n",
       "      <td>OLS lm</td>\n",
       "      <td>69001.707082</td>\n",
       "      <td>0.969282</td>\n",
       "    </tr>\n",
       "  </tbody>\n",
       "</table>\n",
       "</div>"
      ],
      "text/plain": [
       "           model  rmse_validate  r^2_validate\n",
       "0  mean_baseline  393704.956626      0.000000\n",
       "1         OLS lm   69001.707082      0.969282"
      ]
     },
     "execution_count": 74,
     "metadata": {},
     "output_type": "execute_result"
    }
   ],
   "source": [
    "metric_df"
   ]
  },
  {
   "cell_type": "code",
   "execution_count": 75,
   "metadata": {},
   "outputs": [
    {
     "data": {
      "text/plain": [
       "69001.70708224273"
      ]
     },
     "execution_count": 75,
     "metadata": {},
     "output_type": "execute_result"
    }
   ],
   "source": [
    "rmse_validate"
   ]
  },
  {
   "cell_type": "code",
   "execution_count": null,
   "metadata": {},
   "outputs": [],
   "source": []
  },
  {
   "cell_type": "markdown",
   "metadata": {},
   "source": [
    "### LASSO LARS"
   ]
  },
  {
   "cell_type": "code",
   "execution_count": 76,
   "metadata": {},
   "outputs": [
    {
     "name": "stdout",
     "output_type": "stream",
     "text": [
      "RMSE for Lasso + Lars\n",
      "Training/In-Sample:  78453.80131585177 \n",
      "Validation/Out-of-Sample:  69018.63478347169\n"
     ]
    }
   ],
   "source": [
    "# create the model object\n",
    "lars = LassoLars(alpha=1)\n",
    "\n",
    "# fit the model to our training data. We must specify the column in y_train, \n",
    "# since we have converted it to a dataframe from a series!\n",
    "lars.fit(X_train, y_train.taxval)\n",
    "\n",
    "# predict train\n",
    "y_train['taxval_pred_lars'] = lars.predict(X_train)\n",
    "\n",
    "# evaluate: rmse\n",
    "rmse_train = mean_squared_error(y_train.taxval, y_train.taxval_pred_lars) ** 0.5\n",
    "\n",
    "# predict validate\n",
    "y_validate['taxval_pred_lars'] = lars.predict(X_validate)\n",
    "\n",
    "# evaluate: rmse\n",
    "rmse_validate = mean_squared_error(y_validate.taxval, y_validate.taxval_pred_lars) ** 0.5\n",
    "\n",
    "print(\"RMSE for Lasso + Lars\\nTraining/In-Sample: \", rmse_train, \n",
    "      \"\\nValidation/Out-of-Sample: \", rmse_validate)"
   ]
  },
  {
   "cell_type": "code",
   "execution_count": 77,
   "metadata": {},
   "outputs": [
    {
     "data": {
      "text/html": [
       "<div>\n",
       "<style scoped>\n",
       "    .dataframe tbody tr th:only-of-type {\n",
       "        vertical-align: middle;\n",
       "    }\n",
       "\n",
       "    .dataframe tbody tr th {\n",
       "        vertical-align: top;\n",
       "    }\n",
       "\n",
       "    .dataframe thead th {\n",
       "        text-align: right;\n",
       "    }\n",
       "</style>\n",
       "<table border=\"1\" class=\"dataframe\">\n",
       "  <thead>\n",
       "    <tr style=\"text-align: right;\">\n",
       "      <th></th>\n",
       "      <th>taxval</th>\n",
       "      <th>taxval_pred_mean</th>\n",
       "      <th>taxval_pred_median</th>\n",
       "      <th>taxval_pred_lm</th>\n",
       "      <th>taxval_pred_lars</th>\n",
       "    </tr>\n",
       "  </thead>\n",
       "  <tbody>\n",
       "    <tr>\n",
       "      <th>5959</th>\n",
       "      <td>228849.0</td>\n",
       "      <td>441325.041786</td>\n",
       "      <td>360000.0</td>\n",
       "      <td>4.241217e+05</td>\n",
       "      <td>4.242203e+05</td>\n",
       "    </tr>\n",
       "    <tr>\n",
       "      <th>21006</th>\n",
       "      <td>215183.0</td>\n",
       "      <td>441325.041786</td>\n",
       "      <td>360000.0</td>\n",
       "      <td>2.062832e+05</td>\n",
       "      <td>2.067861e+05</td>\n",
       "    </tr>\n",
       "    <tr>\n",
       "      <th>14071</th>\n",
       "      <td>100911.0</td>\n",
       "      <td>441325.041786</td>\n",
       "      <td>360000.0</td>\n",
       "      <td>8.312585e+04</td>\n",
       "      <td>8.343532e+04</td>\n",
       "    </tr>\n",
       "    <tr>\n",
       "      <th>23145</th>\n",
       "      <td>6523866.0</td>\n",
       "      <td>441325.041786</td>\n",
       "      <td>360000.0</td>\n",
       "      <td>6.325675e+06</td>\n",
       "      <td>6.324866e+06</td>\n",
       "    </tr>\n",
       "    <tr>\n",
       "      <th>16963</th>\n",
       "      <td>30371.0</td>\n",
       "      <td>441325.041786</td>\n",
       "      <td>360000.0</td>\n",
       "      <td>4.782124e+04</td>\n",
       "      <td>4.806874e+04</td>\n",
       "    </tr>\n",
       "    <tr>\n",
       "      <th>...</th>\n",
       "      <td>...</td>\n",
       "      <td>...</td>\n",
       "      <td>...</td>\n",
       "      <td>...</td>\n",
       "      <td>...</td>\n",
       "    </tr>\n",
       "    <tr>\n",
       "      <th>27776</th>\n",
       "      <td>580623.0</td>\n",
       "      <td>441325.041786</td>\n",
       "      <td>360000.0</td>\n",
       "      <td>5.807496e+05</td>\n",
       "      <td>5.805546e+05</td>\n",
       "    </tr>\n",
       "    <tr>\n",
       "      <th>4813</th>\n",
       "      <td>354581.0</td>\n",
       "      <td>441325.041786</td>\n",
       "      <td>360000.0</td>\n",
       "      <td>3.174356e+05</td>\n",
       "      <td>3.178712e+05</td>\n",
       "    </tr>\n",
       "    <tr>\n",
       "      <th>25688</th>\n",
       "      <td>425000.0</td>\n",
       "      <td>441325.041786</td>\n",
       "      <td>360000.0</td>\n",
       "      <td>4.000452e+05</td>\n",
       "      <td>4.006104e+05</td>\n",
       "    </tr>\n",
       "    <tr>\n",
       "      <th>995</th>\n",
       "      <td>253162.0</td>\n",
       "      <td>441325.041786</td>\n",
       "      <td>360000.0</td>\n",
       "      <td>2.403577e+05</td>\n",
       "      <td>2.408032e+05</td>\n",
       "    </tr>\n",
       "    <tr>\n",
       "      <th>16512</th>\n",
       "      <td>853000.0</td>\n",
       "      <td>441325.041786</td>\n",
       "      <td>360000.0</td>\n",
       "      <td>7.295490e+05</td>\n",
       "      <td>7.293748e+05</td>\n",
       "    </tr>\n",
       "  </tbody>\n",
       "</table>\n",
       "<p>15388 rows × 5 columns</p>\n",
       "</div>"
      ],
      "text/plain": [
       "          taxval  taxval_pred_mean  taxval_pred_median  taxval_pred_lm  \\\n",
       "5959    228849.0     441325.041786            360000.0    4.241217e+05   \n",
       "21006   215183.0     441325.041786            360000.0    2.062832e+05   \n",
       "14071   100911.0     441325.041786            360000.0    8.312585e+04   \n",
       "23145  6523866.0     441325.041786            360000.0    6.325675e+06   \n",
       "16963    30371.0     441325.041786            360000.0    4.782124e+04   \n",
       "...          ...               ...                 ...             ...   \n",
       "27776   580623.0     441325.041786            360000.0    5.807496e+05   \n",
       "4813    354581.0     441325.041786            360000.0    3.174356e+05   \n",
       "25688   425000.0     441325.041786            360000.0    4.000452e+05   \n",
       "995     253162.0     441325.041786            360000.0    2.403577e+05   \n",
       "16512   853000.0     441325.041786            360000.0    7.295490e+05   \n",
       "\n",
       "       taxval_pred_lars  \n",
       "5959       4.242203e+05  \n",
       "21006      2.067861e+05  \n",
       "14071      8.343532e+04  \n",
       "23145      6.324866e+06  \n",
       "16963      4.806874e+04  \n",
       "...                 ...  \n",
       "27776      5.805546e+05  \n",
       "4813       3.178712e+05  \n",
       "25688      4.006104e+05  \n",
       "995        2.408032e+05  \n",
       "16512      7.293748e+05  \n",
       "\n",
       "[15388 rows x 5 columns]"
      ]
     },
     "execution_count": 77,
     "metadata": {},
     "output_type": "execute_result"
    }
   ],
   "source": [
    "y_train"
   ]
  },
  {
   "cell_type": "code",
   "execution_count": 78,
   "metadata": {},
   "outputs": [],
   "source": [
    "metric_df = metric_df.append(\n",
    "    {\n",
    "    'model': 'LassoLars alpha 1',\n",
    "    'rmse_validate': rmse_validate,\n",
    "    'r^2_validate': explained_variance_score(y_validate.taxval, y_validate.taxval_pred_lars)}, ignore_index=True)"
   ]
  },
  {
   "cell_type": "code",
   "execution_count": 79,
   "metadata": {},
   "outputs": [
    {
     "data": {
      "text/html": [
       "<div>\n",
       "<style scoped>\n",
       "    .dataframe tbody tr th:only-of-type {\n",
       "        vertical-align: middle;\n",
       "    }\n",
       "\n",
       "    .dataframe tbody tr th {\n",
       "        vertical-align: top;\n",
       "    }\n",
       "\n",
       "    .dataframe thead th {\n",
       "        text-align: right;\n",
       "    }\n",
       "</style>\n",
       "<table border=\"1\" class=\"dataframe\">\n",
       "  <thead>\n",
       "    <tr style=\"text-align: right;\">\n",
       "      <th></th>\n",
       "      <th>model</th>\n",
       "      <th>rmse_validate</th>\n",
       "      <th>r^2_validate</th>\n",
       "    </tr>\n",
       "  </thead>\n",
       "  <tbody>\n",
       "    <tr>\n",
       "      <th>0</th>\n",
       "      <td>mean_baseline</td>\n",
       "      <td>393704.956626</td>\n",
       "      <td>0.000000</td>\n",
       "    </tr>\n",
       "    <tr>\n",
       "      <th>1</th>\n",
       "      <td>OLS lm</td>\n",
       "      <td>69001.707082</td>\n",
       "      <td>0.969282</td>\n",
       "    </tr>\n",
       "    <tr>\n",
       "      <th>2</th>\n",
       "      <td>LassoLars alpha 1</td>\n",
       "      <td>69018.634783</td>\n",
       "      <td>0.969267</td>\n",
       "    </tr>\n",
       "  </tbody>\n",
       "</table>\n",
       "</div>"
      ],
      "text/plain": [
       "               model  rmse_validate  r^2_validate\n",
       "0      mean_baseline  393704.956626      0.000000\n",
       "1             OLS lm   69001.707082      0.969282\n",
       "2  LassoLars alpha 1   69018.634783      0.969267"
      ]
     },
     "execution_count": 79,
     "metadata": {},
     "output_type": "execute_result"
    }
   ],
   "source": [
    "metric_df"
   ]
  },
  {
   "cell_type": "code",
   "execution_count": null,
   "metadata": {},
   "outputs": [],
   "source": []
  },
  {
   "cell_type": "markdown",
   "metadata": {},
   "source": [
    "### TweedieRegressor (GLM)"
   ]
  },
  {
   "cell_type": "code",
   "execution_count": 80,
   "metadata": {},
   "outputs": [
    {
     "name": "stdout",
     "output_type": "stream",
     "text": [
      "RMSE for GLM using Tweedie, power=1 & alpha=0\n",
      "Training/In-Sample:  406798.224925693 \n",
      "Validation/Out-of-Sample:  393704.95662560535\n"
     ]
    }
   ],
   "source": [
    "# create the model object\n",
    "glm = TweedieRegressor(power=1, alpha=0)\n",
    "\n",
    "# fit the model to our training data. We must specify the column in y_train, \n",
    "# since we have converted it to a dataframe from a series! \n",
    "\n",
    "glm.fit(X_train, y_train.taxval)\n",
    "\n",
    "# predict train\n",
    "y_train['taxval_pred_glm'] = glm.predict(X_train)\n",
    "\n",
    "# evaluate: rmse\n",
    "rmse_train = mean_squared_error(y_train.taxval, y_train.taxval_pred_glm) ** 0.5\n",
    "\n",
    "\n",
    "# predict validate\n",
    "y_validate['taxval_pred_glm'] = glm.predict(X_validate)\n",
    "\n",
    "# evaluate: rmse\n",
    "rmse_validate = mean_squared_error(y_validate.taxval, y_validate.taxval_pred_glm) ** 0.5\n",
    "\n",
    "\n",
    "print(\"RMSE for GLM using Tweedie, power=1 & alpha=0\\nTraining/In-Sample: \", rmse_train, \n",
    "      \"\\nValidation/Out-of-Sample: \", rmse_validate)"
   ]
  },
  {
   "cell_type": "code",
   "execution_count": 81,
   "metadata": {},
   "outputs": [],
   "source": [
    "metric_df = metric_df.append(\n",
    "    {\n",
    "    'model': 'GLM Model power 1',\n",
    "    'rmse_validate': rmse_validate,\n",
    "    'r^2_validate': explained_variance_score(y_validate.taxval, y_validate.taxval_pred_glm)}, ignore_index=True)"
   ]
  },
  {
   "cell_type": "code",
   "execution_count": 82,
   "metadata": {},
   "outputs": [
    {
     "data": {
      "text/html": [
       "<div>\n",
       "<style scoped>\n",
       "    .dataframe tbody tr th:only-of-type {\n",
       "        vertical-align: middle;\n",
       "    }\n",
       "\n",
       "    .dataframe tbody tr th {\n",
       "        vertical-align: top;\n",
       "    }\n",
       "\n",
       "    .dataframe thead th {\n",
       "        text-align: right;\n",
       "    }\n",
       "</style>\n",
       "<table border=\"1\" class=\"dataframe\">\n",
       "  <thead>\n",
       "    <tr style=\"text-align: right;\">\n",
       "      <th></th>\n",
       "      <th>model</th>\n",
       "      <th>rmse_validate</th>\n",
       "      <th>r^2_validate</th>\n",
       "    </tr>\n",
       "  </thead>\n",
       "  <tbody>\n",
       "    <tr>\n",
       "      <th>0</th>\n",
       "      <td>mean_baseline</td>\n",
       "      <td>393704.956626</td>\n",
       "      <td>0.000000</td>\n",
       "    </tr>\n",
       "    <tr>\n",
       "      <th>1</th>\n",
       "      <td>OLS lm</td>\n",
       "      <td>69001.707082</td>\n",
       "      <td>0.969282</td>\n",
       "    </tr>\n",
       "    <tr>\n",
       "      <th>2</th>\n",
       "      <td>LassoLars alpha 1</td>\n",
       "      <td>69018.634783</td>\n",
       "      <td>0.969267</td>\n",
       "    </tr>\n",
       "    <tr>\n",
       "      <th>3</th>\n",
       "      <td>GLM Model power 1</td>\n",
       "      <td>393704.956626</td>\n",
       "      <td>0.000000</td>\n",
       "    </tr>\n",
       "  </tbody>\n",
       "</table>\n",
       "</div>"
      ],
      "text/plain": [
       "               model  rmse_validate  r^2_validate\n",
       "0      mean_baseline  393704.956626      0.000000\n",
       "1             OLS lm   69001.707082      0.969282\n",
       "2  LassoLars alpha 1   69018.634783      0.969267\n",
       "3  GLM Model power 1  393704.956626      0.000000"
      ]
     },
     "execution_count": 82,
     "metadata": {},
     "output_type": "execute_result"
    }
   ],
   "source": [
    "metric_df"
   ]
  },
  {
   "cell_type": "code",
   "execution_count": 84,
   "metadata": {},
   "outputs": [
    {
     "data": {
      "text/html": [
       "<div>\n",
       "<style scoped>\n",
       "    .dataframe tbody tr th:only-of-type {\n",
       "        vertical-align: middle;\n",
       "    }\n",
       "\n",
       "    .dataframe tbody tr th {\n",
       "        vertical-align: top;\n",
       "    }\n",
       "\n",
       "    .dataframe thead th {\n",
       "        text-align: right;\n",
       "    }\n",
       "</style>\n",
       "<table border=\"1\" class=\"dataframe\">\n",
       "  <thead>\n",
       "    <tr style=\"text-align: right;\">\n",
       "      <th></th>\n",
       "      <th>taxval</th>\n",
       "      <th>taxval_pred_mean</th>\n",
       "      <th>taxval_pred_median</th>\n",
       "      <th>taxval_pred_lm</th>\n",
       "      <th>taxval_pred_lars</th>\n",
       "      <th>taxval_pred_glm</th>\n",
       "    </tr>\n",
       "  </thead>\n",
       "  <tbody>\n",
       "    <tr>\n",
       "      <th>5959</th>\n",
       "      <td>228849.0</td>\n",
       "      <td>441325.041786</td>\n",
       "      <td>360000.0</td>\n",
       "      <td>4.241217e+05</td>\n",
       "      <td>4.242203e+05</td>\n",
       "      <td>441325.041786</td>\n",
       "    </tr>\n",
       "    <tr>\n",
       "      <th>21006</th>\n",
       "      <td>215183.0</td>\n",
       "      <td>441325.041786</td>\n",
       "      <td>360000.0</td>\n",
       "      <td>2.062832e+05</td>\n",
       "      <td>2.067861e+05</td>\n",
       "      <td>441325.041786</td>\n",
       "    </tr>\n",
       "    <tr>\n",
       "      <th>14071</th>\n",
       "      <td>100911.0</td>\n",
       "      <td>441325.041786</td>\n",
       "      <td>360000.0</td>\n",
       "      <td>8.312585e+04</td>\n",
       "      <td>8.343532e+04</td>\n",
       "      <td>441325.041786</td>\n",
       "    </tr>\n",
       "    <tr>\n",
       "      <th>23145</th>\n",
       "      <td>6523866.0</td>\n",
       "      <td>441325.041786</td>\n",
       "      <td>360000.0</td>\n",
       "      <td>6.325675e+06</td>\n",
       "      <td>6.324866e+06</td>\n",
       "      <td>441325.041786</td>\n",
       "    </tr>\n",
       "    <tr>\n",
       "      <th>16963</th>\n",
       "      <td>30371.0</td>\n",
       "      <td>441325.041786</td>\n",
       "      <td>360000.0</td>\n",
       "      <td>4.782124e+04</td>\n",
       "      <td>4.806874e+04</td>\n",
       "      <td>441325.041786</td>\n",
       "    </tr>\n",
       "    <tr>\n",
       "      <th>...</th>\n",
       "      <td>...</td>\n",
       "      <td>...</td>\n",
       "      <td>...</td>\n",
       "      <td>...</td>\n",
       "      <td>...</td>\n",
       "      <td>...</td>\n",
       "    </tr>\n",
       "    <tr>\n",
       "      <th>27776</th>\n",
       "      <td>580623.0</td>\n",
       "      <td>441325.041786</td>\n",
       "      <td>360000.0</td>\n",
       "      <td>5.807496e+05</td>\n",
       "      <td>5.805546e+05</td>\n",
       "      <td>441325.041786</td>\n",
       "    </tr>\n",
       "    <tr>\n",
       "      <th>4813</th>\n",
       "      <td>354581.0</td>\n",
       "      <td>441325.041786</td>\n",
       "      <td>360000.0</td>\n",
       "      <td>3.174356e+05</td>\n",
       "      <td>3.178712e+05</td>\n",
       "      <td>441325.041786</td>\n",
       "    </tr>\n",
       "    <tr>\n",
       "      <th>25688</th>\n",
       "      <td>425000.0</td>\n",
       "      <td>441325.041786</td>\n",
       "      <td>360000.0</td>\n",
       "      <td>4.000452e+05</td>\n",
       "      <td>4.006104e+05</td>\n",
       "      <td>441325.041786</td>\n",
       "    </tr>\n",
       "    <tr>\n",
       "      <th>995</th>\n",
       "      <td>253162.0</td>\n",
       "      <td>441325.041786</td>\n",
       "      <td>360000.0</td>\n",
       "      <td>2.403577e+05</td>\n",
       "      <td>2.408032e+05</td>\n",
       "      <td>441325.041786</td>\n",
       "    </tr>\n",
       "    <tr>\n",
       "      <th>16512</th>\n",
       "      <td>853000.0</td>\n",
       "      <td>441325.041786</td>\n",
       "      <td>360000.0</td>\n",
       "      <td>7.295490e+05</td>\n",
       "      <td>7.293748e+05</td>\n",
       "      <td>441325.041786</td>\n",
       "    </tr>\n",
       "  </tbody>\n",
       "</table>\n",
       "<p>15388 rows × 6 columns</p>\n",
       "</div>"
      ],
      "text/plain": [
       "          taxval  taxval_pred_mean  taxval_pred_median  taxval_pred_lm  \\\n",
       "5959    228849.0     441325.041786            360000.0    4.241217e+05   \n",
       "21006   215183.0     441325.041786            360000.0    2.062832e+05   \n",
       "14071   100911.0     441325.041786            360000.0    8.312585e+04   \n",
       "23145  6523866.0     441325.041786            360000.0    6.325675e+06   \n",
       "16963    30371.0     441325.041786            360000.0    4.782124e+04   \n",
       "...          ...               ...                 ...             ...   \n",
       "27776   580623.0     441325.041786            360000.0    5.807496e+05   \n",
       "4813    354581.0     441325.041786            360000.0    3.174356e+05   \n",
       "25688   425000.0     441325.041786            360000.0    4.000452e+05   \n",
       "995     253162.0     441325.041786            360000.0    2.403577e+05   \n",
       "16512   853000.0     441325.041786            360000.0    7.295490e+05   \n",
       "\n",
       "       taxval_pred_lars  taxval_pred_glm  \n",
       "5959       4.242203e+05    441325.041786  \n",
       "21006      2.067861e+05    441325.041786  \n",
       "14071      8.343532e+04    441325.041786  \n",
       "23145      6.324866e+06    441325.041786  \n",
       "16963      4.806874e+04    441325.041786  \n",
       "...                 ...              ...  \n",
       "27776      5.805546e+05    441325.041786  \n",
       "4813       3.178712e+05    441325.041786  \n",
       "25688      4.006104e+05    441325.041786  \n",
       "995        2.408032e+05    441325.041786  \n",
       "16512      7.293748e+05    441325.041786  \n",
       "\n",
       "[15388 rows x 6 columns]"
      ]
     },
     "execution_count": 84,
     "metadata": {},
     "output_type": "execute_result"
    }
   ],
   "source": [
    "y_train"
   ]
  },
  {
   "cell_type": "code",
   "execution_count": null,
   "metadata": {},
   "outputs": [],
   "source": []
  },
  {
   "cell_type": "code",
   "execution_count": 85,
   "metadata": {},
   "outputs": [],
   "source": [
    "# run best model on test - LassoLars"
   ]
  },
  {
   "cell_type": "code",
   "execution_count": 86,
   "metadata": {},
   "outputs": [
    {
     "data": {
      "text/html": [
       "<div>\n",
       "<style scoped>\n",
       "    .dataframe tbody tr th:only-of-type {\n",
       "        vertical-align: middle;\n",
       "    }\n",
       "\n",
       "    .dataframe tbody tr th {\n",
       "        vertical-align: top;\n",
       "    }\n",
       "\n",
       "    .dataframe thead th {\n",
       "        text-align: right;\n",
       "    }\n",
       "</style>\n",
       "<table border=\"1\" class=\"dataframe\">\n",
       "  <thead>\n",
       "    <tr style=\"text-align: right;\">\n",
       "      <th></th>\n",
       "      <th>taxval</th>\n",
       "      <th>taxval_pred_mean</th>\n",
       "      <th>taxval_pred_median</th>\n",
       "    </tr>\n",
       "  </thead>\n",
       "  <tbody>\n",
       "    <tr>\n",
       "      <th>2419</th>\n",
       "      <td>547000.0</td>\n",
       "      <td>441325.041786</td>\n",
       "      <td>360000.0</td>\n",
       "    </tr>\n",
       "    <tr>\n",
       "      <th>11964</th>\n",
       "      <td>115721.0</td>\n",
       "      <td>441325.041786</td>\n",
       "      <td>360000.0</td>\n",
       "    </tr>\n",
       "    <tr>\n",
       "      <th>7812</th>\n",
       "      <td>599000.0</td>\n",
       "      <td>441325.041786</td>\n",
       "      <td>360000.0</td>\n",
       "    </tr>\n",
       "    <tr>\n",
       "      <th>21521</th>\n",
       "      <td>235410.0</td>\n",
       "      <td>441325.041786</td>\n",
       "      <td>360000.0</td>\n",
       "    </tr>\n",
       "    <tr>\n",
       "      <th>2759</th>\n",
       "      <td>172946.0</td>\n",
       "      <td>441325.041786</td>\n",
       "      <td>360000.0</td>\n",
       "    </tr>\n",
       "    <tr>\n",
       "      <th>...</th>\n",
       "      <td>...</td>\n",
       "      <td>...</td>\n",
       "      <td>...</td>\n",
       "    </tr>\n",
       "    <tr>\n",
       "      <th>18802</th>\n",
       "      <td>577913.0</td>\n",
       "      <td>441325.041786</td>\n",
       "      <td>360000.0</td>\n",
       "    </tr>\n",
       "    <tr>\n",
       "      <th>26175</th>\n",
       "      <td>292122.0</td>\n",
       "      <td>441325.041786</td>\n",
       "      <td>360000.0</td>\n",
       "    </tr>\n",
       "    <tr>\n",
       "      <th>20485</th>\n",
       "      <td>71397.0</td>\n",
       "      <td>441325.041786</td>\n",
       "      <td>360000.0</td>\n",
       "    </tr>\n",
       "    <tr>\n",
       "      <th>1932</th>\n",
       "      <td>586000.0</td>\n",
       "      <td>441325.041786</td>\n",
       "      <td>360000.0</td>\n",
       "    </tr>\n",
       "    <tr>\n",
       "      <th>11571</th>\n",
       "      <td>128371.0</td>\n",
       "      <td>441325.041786</td>\n",
       "      <td>360000.0</td>\n",
       "    </tr>\n",
       "  </tbody>\n",
       "</table>\n",
       "<p>5130 rows × 3 columns</p>\n",
       "</div>"
      ],
      "text/plain": [
       "         taxval  taxval_pred_mean  taxval_pred_median\n",
       "2419   547000.0     441325.041786            360000.0\n",
       "11964  115721.0     441325.041786            360000.0\n",
       "7812   599000.0     441325.041786            360000.0\n",
       "21521  235410.0     441325.041786            360000.0\n",
       "2759   172946.0     441325.041786            360000.0\n",
       "...         ...               ...                 ...\n",
       "18802  577913.0     441325.041786            360000.0\n",
       "26175  292122.0     441325.041786            360000.0\n",
       "20485   71397.0     441325.041786            360000.0\n",
       "1932   586000.0     441325.041786            360000.0\n",
       "11571  128371.0     441325.041786            360000.0\n",
       "\n",
       "[5130 rows x 3 columns]"
      ]
     },
     "execution_count": 86,
     "metadata": {},
     "output_type": "execute_result"
    }
   ],
   "source": [
    "y_test"
   ]
  },
  {
   "cell_type": "code",
   "execution_count": 87,
   "metadata": {},
   "outputs": [
    {
     "name": "stdout",
     "output_type": "stream",
     "text": [
      "RMSE for Lasso + Lars\n",
      "Training/In-Sample:  85921.63316427836 \n",
      "Validation/Out-of-Sample:  68988.25143702017\n"
     ]
    }
   ],
   "source": [
    "# create the model object\n",
    "lars = LassoLars(alpha=1.0)\n",
    "\n",
    "# fit the model to our training data. We must specify the column in y_train, \n",
    "# since we have converted it to a dataframe from a series! \n",
    "lars.fit(X_test, y_test.taxval)\n",
    "\n",
    "# predict train\n",
    "y_test['taxval_pred_lars'] = lars.predict(X_test)\n",
    "\n",
    "# evaluate: rmse\n",
    "rmse_test = mean_squared_error(y_test.taxval, y_test.taxval_pred_lars)**(1/2)\n",
    "\n",
    "# predict validate\n",
    "y_validate['taxval_pred_lars'] = lars.predict(X_validate)\n",
    "\n",
    "# evaluate: rmse\n",
    "rmse_validate = mean_squared_error(y_validate.taxval, y_validate.taxval_pred_lars)**(1/2)\n",
    "\n",
    "print(\"RMSE for Lasso + Lars\\nTraining/In-Sample: \", rmse_test, \n",
    "      \"\\nValidation/Out-of-Sample: \", rmse_validate)"
   ]
  },
  {
   "cell_type": "code",
   "execution_count": 88,
   "metadata": {},
   "outputs": [
    {
     "data": {
      "image/png": "[encoded data removed]",
      "text/plain": [
       "<Figure size 1152x576 with 1 Axes>"
      ]
     },
     "metadata": {
      "needs_background": "light"
     },
     "output_type": "display_data"
    }
   ],
   "source": [
    "# y_validate.head()\n",
    "plt.figure(figsize=(16,8))\n",
    "plt.plot(y_validate.taxval, y_validate.taxval_pred_mean, alpha=.5, color=\"gray\", label='_nolegend_')\n",
    "plt.annotate(\"Baseline: Predict Using Mean\", (16, 9.5))\n",
    "plt.plot(y_validate.taxval, y_validate.taxval, alpha=.5, color=\"blue\", label='_nolegend_')\n",
    "plt.annotate(\"The Ideal Line: Predicted = Actual\", (.5, 3.5), rotation=15.5)\n",
    "\n",
    "plt.scatter(y_validate.taxval, y_validate.taxval_pred_lm, \n",
    "            alpha=.5, color=\"red\", s=100, label=\"Model: LinearRegression\")\n",
    "plt.scatter(y_validate.taxval, y_validate.taxval_pred_glm, \n",
    "            alpha=.5, color=\"blue\", s=100, label=\"Model: TweedieRegressor\")\n",
    "#plt.scatter(y_validate.taxval, y_validate.taxval_pred_lm2, \n",
    "#           alpha=.5, color=\"green\", s=100, label=\"Model 2nd degree Polynomial\")\n",
    "plt.legend()\n",
    "plt.xlabel(\"Actual Tax Value\")\n",
    "plt.ylabel(\"Predicted Tax Value\")\n",
    "plt.title(\"Where are predictions more extreme? More modest?\")\n",
    "# plt.annotate(\"The polynomial model appears to overreact to noise\", (2.0, -10))\n",
    "# plt.annotate(\"The OLS model (LinearRegression)\\n appears to be most consistent\", (15.5, 3))\n",
    "plt.show()"
   ]
  },
  {
   "cell_type": "code",
   "execution_count": 89,
   "metadata": {},
   "outputs": [],
   "source": [
    "### Residual Plot:  Plotting errors in predictions"
   ]
  },
  {
   "cell_type": "code",
   "execution_count": 101,
   "metadata": {},
   "outputs": [
    {
     "data": {
      "image/png": "[encoded data removed]",
      "text/plain": [
       "<Figure size 1152x576 with 1 Axes>"
      ]
     },
     "metadata": {
      "needs_background": "light"
     },
     "output_type": "display_data"
    }
   ],
   "source": [
    "# y_validate.head()\n",
    "plt.figure(figsize=(16,8))\n",
    "plt.axhline(label=\"No Error\")\n",
    "plt.scatter(y_validate.taxval, y_validate.taxval_pred_lm-y_validate.taxval, \n",
    "            alpha=.5, color=\"green\", s=100, label=\"Model: LinearRegression\")\n",
    "plt.scatter(y_validate.taxval, y_validate.taxval_pred_lars-y_validate.taxval, \n",
    "            alpha=.5, color=\"purple\", s=100, label=\"Model: LassoLars\")\n",
    "plt.scatter(y_validate.taxval, y_validate.taxval_pred_glm-y_validate.taxval, \n",
    "            alpha=.5, color=\"orange\", s=100, label=\"Model TweedieRegressor\")\n",
    "plt.legend()\n",
    "plt.xlabel(\"Actual Tax Value\")\n",
    "plt.ylabel(\"Residual/Error: Predicted Tax Value\")\n",
    "plt.title(\"Do the size of errors change as the actual value changes?\")\n",
    "plt.annotate(\"The polynomial model appears to overreact to noise\", (2.0, -10))\n",
    "plt.annotate(\"The OLS model (LinearRegression)\\n appears to be most consistent\", (15.5, 3))\n",
    "plt.show()"
   ]
  },
  {
   "cell_type": "code",
   "execution_count": null,
   "metadata": {},
   "outputs": [],
   "source": []
  },
  {
   "cell_type": "markdown",
   "metadata": {},
   "source": [
    "### Additional Deliverables"
   ]
  },
  {
   "cell_type": "code",
   "execution_count": 102,
   "metadata": {},
   "outputs": [
    {
     "data": {
      "text/html": [
       "<div>\n",
       "<style scoped>\n",
       "    .dataframe tbody tr th:only-of-type {\n",
       "        vertical-align: middle;\n",
       "    }\n",
       "\n",
       "    .dataframe tbody tr th {\n",
       "        vertical-align: top;\n",
       "    }\n",
       "\n",
       "    .dataframe thead th {\n",
       "        text-align: right;\n",
       "    }\n",
       "</style>\n",
       "<table border=\"1\" class=\"dataframe\">\n",
       "  <thead>\n",
       "    <tr style=\"text-align: right;\">\n",
       "      <th></th>\n",
       "      <th>parcelid</th>\n",
       "      <th>bath</th>\n",
       "      <th>bed</th>\n",
       "      <th>sqrft</th>\n",
       "      <th>county</th>\n",
       "      <th>yearbuilt</th>\n",
       "      <th>taxval</th>\n",
       "      <th>taxamt</th>\n",
       "      <th>propertylandusetypeid</th>\n",
       "    </tr>\n",
       "  </thead>\n",
       "  <tbody>\n",
       "    <tr>\n",
       "      <th>0</th>\n",
       "      <td>11721753</td>\n",
       "      <td>2.0</td>\n",
       "      <td>3.0</td>\n",
       "      <td>1316.0</td>\n",
       "      <td>6037.0</td>\n",
       "      <td>1923.0</td>\n",
       "      <td>205123.0</td>\n",
       "      <td>2627.48</td>\n",
       "      <td>261.0</td>\n",
       "    </tr>\n",
       "    <tr>\n",
       "      <th>1</th>\n",
       "      <td>11289917</td>\n",
       "      <td>2.0</td>\n",
       "      <td>3.0</td>\n",
       "      <td>1458.0</td>\n",
       "      <td>6037.0</td>\n",
       "      <td>1970.0</td>\n",
       "      <td>136104.0</td>\n",
       "      <td>2319.90</td>\n",
       "      <td>261.0</td>\n",
       "    </tr>\n",
       "    <tr>\n",
       "      <th>2</th>\n",
       "      <td>11705026</td>\n",
       "      <td>1.0</td>\n",
       "      <td>2.0</td>\n",
       "      <td>1421.0</td>\n",
       "      <td>6037.0</td>\n",
       "      <td>1911.0</td>\n",
       "      <td>35606.0</td>\n",
       "      <td>543.69</td>\n",
       "      <td>261.0</td>\n",
       "    </tr>\n",
       "    <tr>\n",
       "      <th>3</th>\n",
       "      <td>14269464</td>\n",
       "      <td>3.0</td>\n",
       "      <td>4.0</td>\n",
       "      <td>2541.0</td>\n",
       "      <td>6059.0</td>\n",
       "      <td>2003.0</td>\n",
       "      <td>880456.0</td>\n",
       "      <td>9819.72</td>\n",
       "      <td>261.0</td>\n",
       "    </tr>\n",
       "    <tr>\n",
       "      <th>4</th>\n",
       "      <td>11446756</td>\n",
       "      <td>2.0</td>\n",
       "      <td>3.0</td>\n",
       "      <td>1491.0</td>\n",
       "      <td>6037.0</td>\n",
       "      <td>1955.0</td>\n",
       "      <td>107110.0</td>\n",
       "      <td>1399.27</td>\n",
       "      <td>261.0</td>\n",
       "    </tr>\n",
       "  </tbody>\n",
       "</table>\n",
       "</div>"
      ],
      "text/plain": [
       "   parcelid  bath  bed   sqrft  county  yearbuilt    taxval   taxamt  \\\n",
       "0  11721753   2.0  3.0  1316.0  6037.0     1923.0  205123.0  2627.48   \n",
       "1  11289917   2.0  3.0  1458.0  6037.0     1970.0  136104.0  2319.90   \n",
       "2  11705026   1.0  2.0  1421.0  6037.0     1911.0   35606.0   543.69   \n",
       "3  14269464   3.0  4.0  2541.0  6059.0     2003.0  880456.0  9819.72   \n",
       "4  11446756   2.0  3.0  1491.0  6037.0     1955.0  107110.0  1399.27   \n",
       "\n",
       "   propertylandusetypeid  \n",
       "0                  261.0  \n",
       "1                  261.0  \n",
       "2                  261.0  \n",
       "3                  261.0  \n",
       "4                  261.0  "
      ]
     },
     "execution_count": 102,
     "metadata": {},
     "output_type": "execute_result"
    }
   ],
   "source": [
    "df.head()"
   ]
  },
  {
   "cell_type": "markdown",
   "metadata": {},
   "source": [
    "#### I  will need to figure out which field gives the annual tax amount for the property in order to calculate the tax rate. Using the property's assessed value (taxvaluedollarcnt) and the amount they pay each year () to compute tax rate."
   ]
  },
  {
   "cell_type": "code",
   "execution_count": 103,
   "metadata": {},
   "outputs": [],
   "source": [
    "df_taxrate = df[['parcelid', 'county', 'taxval', 'taxamt']]"
   ]
  },
  {
   "cell_type": "code",
   "execution_count": 104,
   "metadata": {},
   "outputs": [
    {
     "data": {
      "text/html": [
       "<div>\n",
       "<style scoped>\n",
       "    .dataframe tbody tr th:only-of-type {\n",
       "        vertical-align: middle;\n",
       "    }\n",
       "\n",
       "    .dataframe tbody tr th {\n",
       "        vertical-align: top;\n",
       "    }\n",
       "\n",
       "    .dataframe thead th {\n",
       "        text-align: right;\n",
       "    }\n",
       "</style>\n",
       "<table border=\"1\" class=\"dataframe\">\n",
       "  <thead>\n",
       "    <tr style=\"text-align: right;\">\n",
       "      <th></th>\n",
       "      <th>parcelid</th>\n",
       "      <th>county</th>\n",
       "      <th>taxval</th>\n",
       "      <th>taxamt</th>\n",
       "    </tr>\n",
       "  </thead>\n",
       "  <tbody>\n",
       "    <tr>\n",
       "      <th>0</th>\n",
       "      <td>11721753</td>\n",
       "      <td>6037.0</td>\n",
       "      <td>205123.0</td>\n",
       "      <td>2627.48</td>\n",
       "    </tr>\n",
       "    <tr>\n",
       "      <th>1</th>\n",
       "      <td>11289917</td>\n",
       "      <td>6037.0</td>\n",
       "      <td>136104.0</td>\n",
       "      <td>2319.90</td>\n",
       "    </tr>\n",
       "    <tr>\n",
       "      <th>2</th>\n",
       "      <td>11705026</td>\n",
       "      <td>6037.0</td>\n",
       "      <td>35606.0</td>\n",
       "      <td>543.69</td>\n",
       "    </tr>\n",
       "    <tr>\n",
       "      <th>3</th>\n",
       "      <td>14269464</td>\n",
       "      <td>6059.0</td>\n",
       "      <td>880456.0</td>\n",
       "      <td>9819.72</td>\n",
       "    </tr>\n",
       "    <tr>\n",
       "      <th>4</th>\n",
       "      <td>11446756</td>\n",
       "      <td>6037.0</td>\n",
       "      <td>107110.0</td>\n",
       "      <td>1399.27</td>\n",
       "    </tr>\n",
       "    <tr>\n",
       "      <th>...</th>\n",
       "      <td>...</td>\n",
       "      <td>...</td>\n",
       "      <td>...</td>\n",
       "      <td>...</td>\n",
       "    </tr>\n",
       "    <tr>\n",
       "      <th>28179</th>\n",
       "      <td>17238405</td>\n",
       "      <td>6111.0</td>\n",
       "      <td>141877.0</td>\n",
       "      <td>2026.72</td>\n",
       "    </tr>\n",
       "    <tr>\n",
       "      <th>28181</th>\n",
       "      <td>14011468</td>\n",
       "      <td>6059.0</td>\n",
       "      <td>465999.0</td>\n",
       "      <td>5552.68</td>\n",
       "    </tr>\n",
       "    <tr>\n",
       "      <th>28182</th>\n",
       "      <td>14453399</td>\n",
       "      <td>6059.0</td>\n",
       "      <td>852813.0</td>\n",
       "      <td>11662.88</td>\n",
       "    </tr>\n",
       "    <tr>\n",
       "      <th>28183</th>\n",
       "      <td>11128688</td>\n",
       "      <td>6037.0</td>\n",
       "      <td>1120000.0</td>\n",
       "      <td>13663.03</td>\n",
       "    </tr>\n",
       "    <tr>\n",
       "      <th>28184</th>\n",
       "      <td>10713993</td>\n",
       "      <td>6037.0</td>\n",
       "      <td>563463.0</td>\n",
       "      <td>6903.66</td>\n",
       "    </tr>\n",
       "  </tbody>\n",
       "</table>\n",
       "<p>25648 rows × 4 columns</p>\n",
       "</div>"
      ],
      "text/plain": [
       "       parcelid  county     taxval    taxamt\n",
       "0      11721753  6037.0   205123.0   2627.48\n",
       "1      11289917  6037.0   136104.0   2319.90\n",
       "2      11705026  6037.0    35606.0    543.69\n",
       "3      14269464  6059.0   880456.0   9819.72\n",
       "4      11446756  6037.0   107110.0   1399.27\n",
       "...         ...     ...        ...       ...\n",
       "28179  17238405  6111.0   141877.0   2026.72\n",
       "28181  14011468  6059.0   465999.0   5552.68\n",
       "28182  14453399  6059.0   852813.0  11662.88\n",
       "28183  11128688  6037.0  1120000.0  13663.03\n",
       "28184  10713993  6037.0   563463.0   6903.66\n",
       "\n",
       "[25648 rows x 4 columns]"
      ]
     },
     "execution_count": 104,
     "metadata": {},
     "output_type": "execute_result"
    }
   ],
   "source": [
    "df_taxrate"
   ]
  },
  {
   "cell_type": "code",
   "execution_count": 105,
   "metadata": {},
   "outputs": [],
   "source": [
    "df_taxrate['tax_rate'] = df.taxamt / df.taxval"
   ]
  },
  {
   "cell_type": "code",
   "execution_count": 106,
   "metadata": {},
   "outputs": [
    {
     "data": {
      "text/html": [
       "<div>\n",
       "<style scoped>\n",
       "    .dataframe tbody tr th:only-of-type {\n",
       "        vertical-align: middle;\n",
       "    }\n",
       "\n",
       "    .dataframe tbody tr th {\n",
       "        vertical-align: top;\n",
       "    }\n",
       "\n",
       "    .dataframe thead th {\n",
       "        text-align: right;\n",
       "    }\n",
       "</style>\n",
       "<table border=\"1\" class=\"dataframe\">\n",
       "  <thead>\n",
       "    <tr style=\"text-align: right;\">\n",
       "      <th></th>\n",
       "      <th>parcelid</th>\n",
       "      <th>county</th>\n",
       "      <th>taxval</th>\n",
       "      <th>taxamt</th>\n",
       "      <th>tax_rate</th>\n",
       "    </tr>\n",
       "  </thead>\n",
       "  <tbody>\n",
       "    <tr>\n",
       "      <th>0</th>\n",
       "      <td>11721753</td>\n",
       "      <td>6037.0</td>\n",
       "      <td>205123.0</td>\n",
       "      <td>2627.48</td>\n",
       "      <td>0.012809</td>\n",
       "    </tr>\n",
       "    <tr>\n",
       "      <th>1</th>\n",
       "      <td>11289917</td>\n",
       "      <td>6037.0</td>\n",
       "      <td>136104.0</td>\n",
       "      <td>2319.90</td>\n",
       "      <td>0.017045</td>\n",
       "    </tr>\n",
       "    <tr>\n",
       "      <th>2</th>\n",
       "      <td>11705026</td>\n",
       "      <td>6037.0</td>\n",
       "      <td>35606.0</td>\n",
       "      <td>543.69</td>\n",
       "      <td>0.015270</td>\n",
       "    </tr>\n",
       "    <tr>\n",
       "      <th>3</th>\n",
       "      <td>14269464</td>\n",
       "      <td>6059.0</td>\n",
       "      <td>880456.0</td>\n",
       "      <td>9819.72</td>\n",
       "      <td>0.011153</td>\n",
       "    </tr>\n",
       "    <tr>\n",
       "      <th>4</th>\n",
       "      <td>11446756</td>\n",
       "      <td>6037.0</td>\n",
       "      <td>107110.0</td>\n",
       "      <td>1399.27</td>\n",
       "      <td>0.013064</td>\n",
       "    </tr>\n",
       "    <tr>\n",
       "      <th>...</th>\n",
       "      <td>...</td>\n",
       "      <td>...</td>\n",
       "      <td>...</td>\n",
       "      <td>...</td>\n",
       "      <td>...</td>\n",
       "    </tr>\n",
       "    <tr>\n",
       "      <th>28179</th>\n",
       "      <td>17238405</td>\n",
       "      <td>6111.0</td>\n",
       "      <td>141877.0</td>\n",
       "      <td>2026.72</td>\n",
       "      <td>0.014285</td>\n",
       "    </tr>\n",
       "    <tr>\n",
       "      <th>28181</th>\n",
       "      <td>14011468</td>\n",
       "      <td>6059.0</td>\n",
       "      <td>465999.0</td>\n",
       "      <td>5552.68</td>\n",
       "      <td>0.011916</td>\n",
       "    </tr>\n",
       "    <tr>\n",
       "      <th>28182</th>\n",
       "      <td>14453399</td>\n",
       "      <td>6059.0</td>\n",
       "      <td>852813.0</td>\n",
       "      <td>11662.88</td>\n",
       "      <td>0.013676</td>\n",
       "    </tr>\n",
       "    <tr>\n",
       "      <th>28183</th>\n",
       "      <td>11128688</td>\n",
       "      <td>6037.0</td>\n",
       "      <td>1120000.0</td>\n",
       "      <td>13663.03</td>\n",
       "      <td>0.012199</td>\n",
       "    </tr>\n",
       "    <tr>\n",
       "      <th>28184</th>\n",
       "      <td>10713993</td>\n",
       "      <td>6037.0</td>\n",
       "      <td>563463.0</td>\n",
       "      <td>6903.66</td>\n",
       "      <td>0.012252</td>\n",
       "    </tr>\n",
       "  </tbody>\n",
       "</table>\n",
       "<p>25648 rows × 5 columns</p>\n",
       "</div>"
      ],
      "text/plain": [
       "       parcelid  county     taxval    taxamt  tax_rate\n",
       "0      11721753  6037.0   205123.0   2627.48  0.012809\n",
       "1      11289917  6037.0   136104.0   2319.90  0.017045\n",
       "2      11705026  6037.0    35606.0    543.69  0.015270\n",
       "3      14269464  6059.0   880456.0   9819.72  0.011153\n",
       "4      11446756  6037.0   107110.0   1399.27  0.013064\n",
       "...         ...     ...        ...       ...       ...\n",
       "28179  17238405  6111.0   141877.0   2026.72  0.014285\n",
       "28181  14011468  6059.0   465999.0   5552.68  0.011916\n",
       "28182  14453399  6059.0   852813.0  11662.88  0.013676\n",
       "28183  11128688  6037.0  1120000.0  13663.03  0.012199\n",
       "28184  10713993  6037.0   563463.0   6903.66  0.012252\n",
       "\n",
       "[25648 rows x 5 columns]"
      ]
     },
     "execution_count": 106,
     "metadata": {},
     "output_type": "execute_result"
    }
   ],
   "source": [
    "df_taxrate"
   ]
  },
  {
   "cell_type": "code",
   "execution_count": 111,
   "metadata": {},
   "outputs": [
    {
     "data": {
      "text/plain": [
       "array([[<AxesSubplot:title={'center':'6037.0'}>,\n",
       "        <AxesSubplot:title={'center':'6059.0'}>],\n",
       "       [<AxesSubplot:title={'center':'6111.0'}>, <AxesSubplot:>]],\n",
       "      dtype=object)"
      ]
     },
     "execution_count": 111,
     "metadata": {},
     "output_type": "execute_result"
    },
    {
     "data": {
      "image/png": "[encoded data removed]",
      "text/plain": [
       "<Figure size 432x288 with 4 Axes>"
      ]
     },
     "metadata": {
      "needs_background": "light"
     },
     "output_type": "display_data"
    }
   ],
   "source": [
    "df_taxrate['tax_rate'].hist(by = df['county'])"
   ]
  },
  {
   "cell_type": "code",
   "execution_count": 116,
   "metadata": {},
   "outputs": [
    {
     "data": {
      "text/html": [
       "<div>\n",
       "<style scoped>\n",
       "    .dataframe tbody tr th:only-of-type {\n",
       "        vertical-align: middle;\n",
       "    }\n",
       "\n",
       "    .dataframe tbody tr th {\n",
       "        vertical-align: top;\n",
       "    }\n",
       "\n",
       "    .dataframe thead th {\n",
       "        text-align: right;\n",
       "    }\n",
       "</style>\n",
       "<table border=\"1\" class=\"dataframe\">\n",
       "  <thead>\n",
       "    <tr style=\"text-align: right;\">\n",
       "      <th></th>\n",
       "      <th>parcelid</th>\n",
       "      <th>bath</th>\n",
       "      <th>bed</th>\n",
       "      <th>sqrft</th>\n",
       "      <th>county</th>\n",
       "      <th>yearbuilt</th>\n",
       "      <th>taxval</th>\n",
       "      <th>taxamt</th>\n",
       "      <th>propertylandusetypeid</th>\n",
       "    </tr>\n",
       "  </thead>\n",
       "  <tbody>\n",
       "    <tr>\n",
       "      <th>0</th>\n",
       "      <td>11721753</td>\n",
       "      <td>2.0</td>\n",
       "      <td>3.0</td>\n",
       "      <td>1316.0</td>\n",
       "      <td>6037.0</td>\n",
       "      <td>1923.0</td>\n",
       "      <td>205123.0</td>\n",
       "      <td>2627.48</td>\n",
       "      <td>261.0</td>\n",
       "    </tr>\n",
       "    <tr>\n",
       "      <th>1</th>\n",
       "      <td>11289917</td>\n",
       "      <td>2.0</td>\n",
       "      <td>3.0</td>\n",
       "      <td>1458.0</td>\n",
       "      <td>6037.0</td>\n",
       "      <td>1970.0</td>\n",
       "      <td>136104.0</td>\n",
       "      <td>2319.90</td>\n",
       "      <td>261.0</td>\n",
       "    </tr>\n",
       "    <tr>\n",
       "      <th>2</th>\n",
       "      <td>11705026</td>\n",
       "      <td>1.0</td>\n",
       "      <td>2.0</td>\n",
       "      <td>1421.0</td>\n",
       "      <td>6037.0</td>\n",
       "      <td>1911.0</td>\n",
       "      <td>35606.0</td>\n",
       "      <td>543.69</td>\n",
       "      <td>261.0</td>\n",
       "    </tr>\n",
       "  </tbody>\n",
       "</table>\n",
       "</div>"
      ],
      "text/plain": [
       "   parcelid  bath  bed   sqrft  county  yearbuilt    taxval   taxamt  \\\n",
       "0  11721753   2.0  3.0  1316.0  6037.0     1923.0  205123.0  2627.48   \n",
       "1  11289917   2.0  3.0  1458.0  6037.0     1970.0  136104.0  2319.90   \n",
       "2  11705026   1.0  2.0  1421.0  6037.0     1911.0   35606.0   543.69   \n",
       "\n",
       "   propertylandusetypeid  \n",
       "0                  261.0  \n",
       "1                  261.0  \n",
       "2                  261.0  "
      ]
     },
     "execution_count": 116,
     "metadata": {},
     "output_type": "execute_result"
    }
   ],
   "source": [
    "df.head(3)"
   ]
  },
  {
   "cell_type": "code",
   "execution_count": 117,
   "metadata": {},
   "outputs": [
    {
     "data": {
      "image/png": "[encoded data removed]",
      "text/plain": [
       "<Figure size 432x288 with 1 Axes>"
      ]
     },
     "metadata": {
      "needs_background": "light"
     },
     "output_type": "display_data"
    }
   ],
   "source": [
    "x1 = df_taxrate.loc[df.county==6037, 'tax_rate']\n",
    "x2 = df_taxrate.loc[df.county==6059, 'tax_rate']\n",
    "x3 = df_taxrate.loc[df.county==6111, 'tax_rate']\n",
    "\n",
    "kwargs = dict(alpha=0.5, bins=100)\n",
    "\n",
    "plt.hist(x1, **kwargs, color='g', label=6037)\n",
    "plt.hist(x2, **kwargs, color='b', label=6059)\n",
    "plt.hist(x3, **kwargs, color='r', label=6111)\n",
    "plt.gca().set(title= 'Frequency Histogram of tax_rate', ylabel = \"Frequency\")\n",
    "plt.xlim(0,.05)\n",
    "plt.yscale('log')\n",
    "plt.legend();"
   ]
  },
  {
   "cell_type": "code",
   "execution_count": null,
   "metadata": {},
   "outputs": [],
   "source": []
  },
  {
   "cell_type": "code",
   "execution_count": null,
   "metadata": {},
   "outputs": [],
   "source": [
    "# then takeaways and wrap up"
   ]
  },
  {
   "cell_type": "code",
   "execution_count": null,
   "metadata": {},
   "outputs": [],
   "source": [
    "# use the plot or histogram from modeling - evaluate"
   ]
  },
  {
   "cell_type": "code",
   "execution_count": null,
   "metadata": {},
   "outputs": [],
   "source": []
  },
  {
   "cell_type": "code",
   "execution_count": null,
   "metadata": {},
   "outputs": [],
   "source": [
    "# reference county, state for every house"
   ]
  },
  {
   "cell_type": "code",
   "execution_count": null,
   "metadata": {},
   "outputs": [],
   "source": []
  },
  {
   "cell_type": "code",
   "execution_count": null,
   "metadata": {},
   "outputs": [],
   "source": []
  },
  {
   "cell_type": "code",
   "execution_count": null,
   "metadata": {},
   "outputs": [],
   "source": []
  },
  {
   "cell_type": "code",
   "execution_count": null,
   "metadata": {},
   "outputs": [],
   "source": []
  },
  {
   "cell_type": "code",
   "execution_count": null,
   "metadata": {},
   "outputs": [],
   "source": []
  },
  {
   "cell_type": "code",
   "execution_count": null,
   "metadata": {},
   "outputs": [],
   "source": [
    "# then powerpoint"
   ]
  },
  {
   "cell_type": "code",
   "execution_count": null,
   "metadata": {},
   "outputs": [],
   "source": []
  },
  {
   "cell_type": "code",
   "execution_count": null,
   "metadata": {},
   "outputs": [],
   "source": []
  },
  {
   "cell_type": "code",
   "execution_count": null,
   "metadata": {},
   "outputs": [],
   "source": []
  },
  {
   "cell_type": "code",
   "execution_count": null,
   "metadata": {},
   "outputs": [],
   "source": [
    "# when you plot, use a sample first because it may be too large and overload the computer"
   ]
  },
  {
   "cell_type": "code",
   "execution_count": null,
   "metadata": {},
   "outputs": [],
   "source": []
  }
 ],
 "metadata": {
  "kernelspec": {
   "display_name": "Python 3",
   "language": "python",
   "name": "python3"
  },
  "language_info": {
   "codemirror_mode": {
    "name": "ipython",
    "version": 3
   },
   "file_extension": ".py",
   "mimetype": "text/x-python",
   "name": "python",
   "nbconvert_exporter": "python",
   "pygments_lexer": "ipython3",
   "version": "3.8.5"
  }
 },
 "nbformat": 4,
 "nbformat_minor": 4
}
